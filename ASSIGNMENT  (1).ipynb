{
 "cells": [
  {
   "cell_type": "markdown",
   "id": "fe0a27f5-758b-49b3-abf4-8b80dbadaff8",
   "metadata": {},
   "source": [
    "# What is the difference between static and dynamic variables in Python?"
   ]
  },
  {
   "cell_type": "code",
   "execution_count": 4,
   "id": "406cf76c-3503-4f07-9495-aaf8b2ac0c38",
   "metadata": {},
   "outputs": [
    {
     "name": "stdout",
     "output_type": "stream",
     "text": [
      "0\n",
      "10\n"
     ]
    }
   ],
   "source": [
    "#Static variables are class-level variables shared among all instances of a class,\n",
    "#while dynamic variables are instance-level variables unique to each instance.\n",
    "class MyClass:\n",
    "    static_var = 0  # Static variable\n",
    "\n",
    "    def __init__(self, value):\n",
    "        self.dynamic_var = value  # Dynamic variable\n",
    "\n",
    "obj1 = MyClass(5)\n",
    "obj2 = MyClass(10)\n",
    "print(obj1.static_var)  # Output: 0\n",
    "print(obj2.dynamic_var)  # Output: 10\n"
   ]
  },
  {
   "cell_type": "markdown",
   "id": "d350157f-922e-495c-9669-3a0ece20923f",
   "metadata": {},
   "source": [
    "# Explain the purpose of pop(), popitem(), clear() in a dictionary with suitable examples.\n",
    "\n"
   ]
  },
  {
   "cell_type": "markdown",
   "id": "106e9139-7bd8-47e8-8bfa-73fdcb1e7ac5",
   "metadata": {},
   "source": [
    "pop(): Removes the specified key and returns the corresponding value.\n",
    "popitem(): Removes and returns the last inserted key-value pair.\n",
    "clear(): Removes all elements from the dictionary.\n"
   ]
  },
  {
   "cell_type": "code",
   "execution_count": 5,
   "id": "d2ef287d-c3f3-43f8-af2b-67895dcc9dac",
   "metadata": {},
   "outputs": [
    {
     "name": "stdout",
     "output_type": "stream",
     "text": [
      "{'a': 1, 'c': 3}\n",
      "{'a': 1}\n",
      "{}\n"
     ]
    }
   ],
   "source": [
    "my_dict = {'a': 1, 'b': 2, 'c': 3}\n",
    "my_dict.pop('b')  # Output: 2\n",
    "print(my_dict)  # Output: {'a': 1, 'c': 3}\n",
    "\n",
    "my_dict.popitem()  # Output: ('c', 3)\n",
    "print(my_dict)  # Output: {'a': 1}\n",
    "\n",
    "my_dict.clear()\n",
    "print(my_dict)  # Output: {}\n"
   ]
  },
  {
   "cell_type": "markdown",
   "id": "5cf3e207-c247-4334-94d2-9cf585056c3c",
   "metadata": {},
   "source": [
    "# What do you mean by FrozenSet? Explain it with suitable examples"
   ]
  },
  {
   "cell_type": "code",
   "execution_count": 6,
   "id": "4e43d399-aca3-425a-ab70-f6e0e0b0a578",
   "metadata": {},
   "outputs": [
    {
     "name": "stdout",
     "output_type": "stream",
     "text": [
      "frozenset({1, 2, 3, 4})\n"
     ]
    }
   ],
   "source": [
    "#A frozenset is an immutable version of a set, meaning that once created, its elements cannot be changed.\n",
    "my_set = frozenset([1, 2, 3, 4])\n",
    "print(my_set)  # Output: frozenset({1, 2, 3, 4})\n"
   ]
  },
  {
   "cell_type": "markdown",
   "id": "16a0434d-444c-4203-b46d-b20d012dae4d",
   "metadata": {},
   "source": [
    "# Differentiate between mutable and immutable data types in Python and give examples of mutable and immutable data types."
   ]
  },
  {
   "cell_type": "code",
   "execution_count": 7,
   "id": "b05cb553-f54c-4567-bc32-be71474ba021",
   "metadata": {},
   "outputs": [
    {
     "name": "stdout",
     "output_type": "stream",
     "text": [
      "[1, 2, 3, 4]\n"
     ]
    }
   ],
   "source": [
    "# Mutable data types can be changed after their creation, while immutable data types cannot.\n",
    "my_list = [1, 2, 3]\n",
    "my_list.append(4)  # Mutable\n",
    "print(my_list)  # Output: [1, 2, 3, 4]\n",
    "\n",
    "my_tuple = (1, 2, 3)\n",
    "# my_tuple[0] = 4  # Immutable, would raise an error\n"
   ]
  },
  {
   "cell_type": "markdown",
   "id": "f8a1f5f3-5084-4401-b105-f2f06fcedd48",
   "metadata": {},
   "source": [
    "# What is __init__? Explain with an example.\n"
   ]
  },
  {
   "cell_type": "markdown",
   "id": "a8571033-2004-4d1f-a3e6-6fa91394cf26",
   "metadata": {},
   "source": [
    "__init__ is a special method in Python classes, called a constructor, which is automatically called when a \n",
    "new instance of the class is created."
   ]
  },
  {
   "cell_type": "code",
   "execution_count": 10,
   "id": "30f5e63b-859e-43af-ab60-06fac70b43ee",
   "metadata": {},
   "outputs": [
    {
     "name": "stdout",
     "output_type": "stream",
     "text": [
      "10\n"
     ]
    }
   ],
   "source": [
    "class MyClass:\n",
    "    def __init__(self, value):\n",
    "        self.value = value\n",
    "\n",
    "obj = MyClass(10)\n",
    "print(obj.value)  # Output: 10\n"
   ]
  },
  {
   "cell_type": "markdown",
   "id": "648c2224-282e-434a-9d63-9dbc756b71a6",
   "metadata": {},
   "source": [
    "# What is docstring in Python? Explain with an example.\n",
    "\n"
   ]
  },
  {
   "cell_type": "markdown",
   "id": "51c95631-a9b6-4ed3-91a1-25901d8cf1a4",
   "metadata": {},
   "source": [
    "A docstring is a string literal used to document modules, classes, functions, and methods. It is defined using triple quotes.\n"
   ]
  },
  {
   "cell_type": "code",
   "execution_count": 11,
   "id": "cc215c77-9b36-43ef-b031-8d39a2d193f0",
   "metadata": {},
   "outputs": [
    {
     "name": "stdout",
     "output_type": "stream",
     "text": [
      "\n",
      "    This is a docstring.\n",
      "    It explains what the function does.\n",
      "    \n"
     ]
    }
   ],
   "source": [
    "def my_function():\n",
    "    \"\"\"\n",
    "    This is a docstring.\n",
    "    It explains what the function does.\n",
    "    \"\"\"\n",
    "    pass\n",
    "\n",
    "print(my_function.__doc__)\n"
   ]
  },
  {
   "cell_type": "markdown",
   "id": "3f02b1e0-c7c8-4658-b77e-c0d9b055ece2",
   "metadata": {},
   "source": [
    "# What are unit tests in Python?\n",
    "\n"
   ]
  },
  {
   "cell_type": "markdown",
   "id": "d2167cde-5235-4cfb-81d7-8f8e742aff59",
   "metadata": {},
   "source": [
    "Unit tests are a type of software testing where individual units or components of a software are tested. In Python, the unittest module is commonly used for unit testing.\n"
   ]
  },
  {
   "cell_type": "markdown",
   "id": "a7ac921c-cf29-4f9b-b222-563caaff28a6",
   "metadata": {},
   "source": [
    "# What is break, continue, and pass in Python?\n",
    "\n"
   ]
  },
  {
   "cell_type": "raw",
   "id": "132a7264-19ae-40ae-a624-3f542fd4e806",
   "metadata": {},
   "source": [
    "break: Terminates the nearest enclosing loop.\n",
    "continue: Skips the rest of the code inside the loop for the current iteration only.\n",
    "pass: Does nothing; it’s a null statement.\n"
   ]
  },
  {
   "cell_type": "code",
   "execution_count": 12,
   "id": "ee546902-d5c2-40f5-a27a-8d158339e47b",
   "metadata": {},
   "outputs": [
    {
     "name": "stdout",
     "output_type": "stream",
     "text": [
      "0\n",
      "1\n",
      "2\n",
      "0\n",
      "1\n",
      "2\n",
      "4\n",
      "0\n",
      "1\n",
      "2\n",
      "3\n",
      "4\n"
     ]
    }
   ],
   "source": [
    "for i in range(5):\n",
    "    if i == 3:\n",
    "        break\n",
    "    print(i)  # Output: 0, 1, 2\n",
    "\n",
    "for i in range(5):\n",
    "    if i == 3:\n",
    "        continue\n",
    "    print(i)  # Output: 0, 1, 2, 4\n",
    "\n",
    "for i in range(5):\n",
    "    if i == 3:\n",
    "        pass\n",
    "    print(i)  # Output: 0, 1, 2, 3, 4\n"
   ]
  },
  {
   "cell_type": "markdown",
   "id": "906b1a06-dcbf-4137-bb77-1534ffbe4c76",
   "metadata": {},
   "source": [
    "# What is the use of self in Python?"
   ]
  },
  {
   "cell_type": "raw",
   "id": "a8df7a7e-75a9-44c1-a340-760c33c9ee46",
   "metadata": {},
   "source": [
    "self is a reference to the current instance of the class, used to access variables and methods associated with the object.\n"
   ]
  },
  {
   "cell_type": "code",
   "execution_count": 13,
   "id": "3262c71c-1521-447b-acfe-9a92dde69e68",
   "metadata": {},
   "outputs": [
    {
     "name": "stdout",
     "output_type": "stream",
     "text": [
      "10\n"
     ]
    }
   ],
   "source": [
    "class MyClass:\n",
    "    def __init__(self, value):\n",
    "        self.value = value\n",
    "\n",
    "    def display(self):\n",
    "        print(self.value)\n",
    "\n",
    "obj = MyClass(10)\n",
    "obj.display()  # Output: 10\n"
   ]
  },
  {
   "cell_type": "markdown",
   "id": "efc74eb1-bf2d-431d-bf47-4828e35ce0c7",
   "metadata": {},
   "source": [
    "# What are global, protected, and private attributes in Python?\n",
    "\n"
   ]
  },
  {
   "cell_type": "raw",
   "id": "6cfc3052-27bb-431e-bef4-11d0d6b3d09a",
   "metadata": {},
   "source": [
    "Global: Accessible from any part of the code.\n",
    "Protected: Indicated by a single underscore (_); intended for internal use within a class or subclass.\n",
    "Private: Indicated by a double underscore (__); intended to be inaccessible from outside the class.\n"
   ]
  },
  {
   "cell_type": "code",
   "execution_count": 14,
   "id": "523f3f64-4d41-4fb5-a988-0d9b15334911",
   "metadata": {},
   "outputs": [
    {
     "name": "stdout",
     "output_type": "stream",
     "text": [
      "I am public\n",
      "I am protected\n"
     ]
    }
   ],
   "source": [
    "class MyClass:\n",
    "    def __init__(self):\n",
    "        self.public = \"I am public\"\n",
    "        self._protected = \"I am protected\"\n",
    "        self.__private = \"I am private\"\n",
    "\n",
    "obj = MyClass()\n",
    "print(obj.public)  # Output: I am public\n",
    "print(obj._protected)  # Output: I am protected\n",
    "# print(obj.__private)  # Raises AttributeError\n"
   ]
  },
  {
   "cell_type": "markdown",
   "id": "12e49994-0517-49b1-b9f5-03ffe766cdb9",
   "metadata": {},
   "source": [
    "# What are modules and packages in Python?\n",
    "\n"
   ]
  },
  {
   "cell_type": "raw",
   "id": "41215542-c3a9-4c68-9cb8-4fa3df3b1de6",
   "metadata": {},
   "source": [
    "A module is a single Python file containing functions, classes, or variables.\n",
    "A package is a directory containing multiple modules, along with an __init__.py file.\n"
   ]
  },
  {
   "cell_type": "markdown",
   "id": "452dd4d4-0420-40a5-9f10-0820c86935df",
   "metadata": {},
   "source": [
    "# What are lists and tuples? What is the key difference between the two?\n"
   ]
  },
  {
   "cell_type": "raw",
   "id": "7b2625a4-f208-45b4-9c28-577baa7af43c",
   "metadata": {},
   "source": [
    "Lists are mutable, ordered collections of elements.\n",
    "Tuples are immutable, ordered collections of elements."
   ]
  },
  {
   "cell_type": "code",
   "execution_count": 15,
   "id": "b1469334-cc2b-4ec1-ada5-13713850cfe5",
   "metadata": {},
   "outputs": [],
   "source": [
    "my_list = [1, 2, 3]\n",
    "my_tuple = (1, 2, 3)\n"
   ]
  },
  {
   "cell_type": "markdown",
   "id": "5484af0c-94d0-44e4-b79d-129587dce43a",
   "metadata": {},
   "source": [
    "# What is an Interpreted language and dynamically typed language? Write 5 differences between them.\n",
    "\n"
   ]
  },
  {
   "cell_type": "raw",
   "id": "b9fdef6b-df87-4a0e-8118-63751adece9a",
   "metadata": {},
   "source": [
    "An interpreted language is executed line by line by an interpreter.\n",
    "A dynamically typed language does not require variable types to be declared; types are determined at runtime.\n",
    "Differences:\n",
    "Compilation vs Interpretation\n",
    "Type Checking at runtime vs compile-time\n",
    "Execution speed: generally slower in interpreted languages\n",
    "Error detection: usually detected at runtime in interpreted languages\n",
    "Flexibility: more flexible in dynamically typed languages"
   ]
  },
  {
   "cell_type": "markdown",
   "id": "8c1dcdd9-1045-405f-9646-abf67157c03e",
   "metadata": {},
   "source": [
    "# What are Dict and List comprehensions?\n",
    "\n"
   ]
  },
  {
   "cell_type": "code",
   "execution_count": 16,
   "id": "4b6177fd-20d5-4f73-b6a1-be9bd04a11ea",
   "metadata": {},
   "outputs": [],
   "source": [
    "# Comprehensions provide a concise way to create dictionaries and lists.\n",
    "my_list = [x**2 for x in range(5)]\n",
    "my_dict = {x: x**2 for x in range(5)}\n"
   ]
  },
  {
   "cell_type": "markdown",
   "id": "fac47b5f-6616-4525-8815-09861513f9d7",
   "metadata": {},
   "source": [
    "# What are decorators in Python? Explain it with an example. Write down its use cases.\n",
    "\n"
   ]
  },
  {
   "cell_type": "code",
   "execution_count": 17,
   "id": "a5fe9fd6-774f-4fba-baa2-73b554bb892a",
   "metadata": {},
   "outputs": [
    {
     "name": "stdout",
     "output_type": "stream",
     "text": [
      "Something is happening before the function is called.\n",
      "Hello!\n",
      "Something is happening after the function is called.\n"
     ]
    }
   ],
   "source": [
    "# Decorators are functions that modify the behavior of another function.\n",
    "def my_decorator(func):\n",
    "    def wrapper():\n",
    "        print(\"Something is happening before the function is called.\")\n",
    "        func()\n",
    "        print(\"Something is happening after the function is called.\")\n",
    "    return wrapper\n",
    "\n",
    "@my_decorator\n",
    "def say_hello():\n",
    "    print(\"Hello!\")\n",
    "\n",
    "say_hello()\n"
   ]
  },
  {
   "cell_type": "markdown",
   "id": "249b30d1-c1e9-4339-9054-979b00829a46",
   "metadata": {},
   "source": [
    "# How is memory managed in Python?\n",
    "\n"
   ]
  },
  {
   "cell_type": "raw",
   "id": "e0719687-9c97-4025-bff7-a971360ff651",
   "metadata": {},
   "source": [
    "Python uses automatic memory management with a private heap containing all Python objects and data structures. The memory manager manages the allocation of this heap space. Python also uses a built-in garbage collector to recycle unused memory."
   ]
  },
  {
   "cell_type": "markdown",
   "id": "5ce47d6f-ac75-45cb-b2d2-65f9c80f9865",
   "metadata": {},
   "source": [
    "# What is lambda in Python? Why is it used?"
   ]
  },
  {
   "cell_type": "raw",
   "id": "a260ec56-3c39-47d2-a972-06e9f7e7a165",
   "metadata": {},
   "source": [
    "A lambda is an anonymous function defined with the lambda keyword. It is used for creating small, unnamed functions for short-term use.\n"
   ]
  },
  {
   "cell_type": "code",
   "execution_count": 18,
   "id": "8dc0ee9a-626a-432f-91cc-02f79f6e0ea0",
   "metadata": {},
   "outputs": [
    {
     "name": "stdout",
     "output_type": "stream",
     "text": [
      "5\n"
     ]
    }
   ],
   "source": [
    "add = lambda x, y: x + y\n",
    "print(add(2, 3))  # Output: 5\n"
   ]
  },
  {
   "cell_type": "markdown",
   "id": "9f4b1e21-435e-472c-831a-e9949651dfd6",
   "metadata": {},
   "source": [
    "# Explain split() and join() functions in Python?\n",
    "\n"
   ]
  },
  {
   "cell_type": "raw",
   "id": "2f5e8f61-dec0-4af8-882c-b5355c8a392d",
   "metadata": {},
   "source": [
    "split(): Splits a string into a list where each word is a list item.\n",
    "join(): Joins elements of a list into a single string.\n"
   ]
  },
  {
   "cell_type": "code",
   "execution_count": 19,
   "id": "49342ade-ab20-43c2-91c7-d69e6b7332e2",
   "metadata": {},
   "outputs": [
    {
     "name": "stdout",
     "output_type": "stream",
     "text": [
      "['hello', 'world']\n",
      "hello world\n"
     ]
    }
   ],
   "source": [
    "text = \"hello world\"\n",
    "words = text.split()\n",
    "print(words)  # Output: ['hello', 'world']\n",
    "\n",
    "joined_text = ' '.join(words)\n",
    "print(joined_text)  # Output: hello world\n"
   ]
  },
  {
   "cell_type": "markdown",
   "id": "8348d38c-b904-452f-96b9-85f079df5b42",
   "metadata": {},
   "source": [
    "# What is encapsulation? Explain it with an example.\n",
    "\n"
   ]
  },
  {
   "cell_type": "raw",
   "id": "d7291280-fdd6-4535-a8be-57c6bb653031",
   "metadata": {},
   "source": [
    "Encapsulation is the bundling of data with the methods that operate on that data, restricting direct access to some of the object's components."
   ]
  },
  {
   "cell_type": "code",
   "execution_count": 20,
   "id": "13a39925-1f95-4e02-84df-84429562cf6b",
   "metadata": {},
   "outputs": [
    {
     "name": "stdout",
     "output_type": "stream",
     "text": [
      "I am private\n"
     ]
    }
   ],
   "source": [
    "class MyClass:\n",
    "    def __init__(self):\n",
    "        self.__private_var = \"I am private\"\n",
    "\n",
    "    def get_private_var(self):\n",
    "        return self.__private_var\n",
    "\n",
    "obj = MyClass()\n",
    "print(obj.get_private_var())  # Output: I am private\n"
   ]
  },
  {
   "cell_type": "markdown",
   "id": "75712c80-2109-4d87-af73-5ff0cfce2471",
   "metadata": {},
   "source": [
    "# What is polymorphism? Explain it with an example.\n",
    "\n"
   ]
  },
  {
   "cell_type": "raw",
   "id": "92099155-df50-49d6-92c5-9e841283d0ef",
   "metadata": {},
   "source": [
    " Polymorphism allows objects of different classes to be treated as objects of a common superclass"
   ]
  },
  {
   "cell_type": "code",
   "execution_count": 22,
   "id": "f54793f8-fad0-4632-951f-7b8c088d1b5b",
   "metadata": {},
   "outputs": [
    {
     "name": "stdout",
     "output_type": "stream",
     "text": [
      "Woof!\n",
      "Meow!\n"
     ]
    }
   ],
   "source": [
    "class Dog:\n",
    "    def speak(self):\n",
    "        return \"Woof!\"\n",
    "\n",
    "class Cat:\n",
    "    def speak(self):\n",
    "        return \"Meow!\"\n",
    "\n",
    "animals = [Dog(), Cat()]\n",
    "for animal in animals:\n",
    "    print(animal.speak())  # Output: Woof! Meow!\n"
   ]
  },
  {
   "cell_type": "markdown",
   "id": "5b2dea87-0394-4336-a36d-660abcea36fc",
   "metadata": {},
   "source": [
    "# Question 1.2: Identifying invalid identifier names"
   ]
  },
  {
   "cell_type": "raw",
   "id": "9327ef1e-1921-4417-825f-8145e76c8c12",
   "metadata": {},
   "source": [
    "a) Serial_no - Valid. Uses underscores, which are allowed.\n",
    "b) 1st_Room - Invalid. Identifiers cannot start with a digit.\n",
    "c) Hundred$ - Invalid. Identifiers cannot contain the dollar sign ($).\n",
    "d) Total_Marks - Valid. Uses underscores, which are allowed.\n",
    "e) total-Marks - Invalid. Identifiers cannot contain hyphens (-).\n",
    "f) Total Marks - Invalid. Identifiers cannot contain spaces.\n",
    "g) True - Invalid. 'True' is a reserved keyword in Python.\n",
    "h) _Percentag - Valid. Identifiers can start with an underscore."
   ]
  },
  {
   "cell_type": "markdown",
   "id": "2af1e9f9-eccf-4b7c-8330-fef5a2a9806d",
   "metadata": {},
   "source": [
    "# Question 1.3: List operations\n",
    "# Given list:"
   ]
  },
  {
   "cell_type": "code",
   "execution_count": 23,
   "id": "a92dfaed-bdc6-43d9-aa03-6e6ad61d48e7",
   "metadata": {},
   "outputs": [],
   "source": [
    "name = [\"Mohan\", \"dash\", \"karam\", \"chandra\", \"gandhi\", \"Bapu\"]\n"
   ]
  },
  {
   "cell_type": "markdown",
   "id": "920f0b48-1667-4106-84db-146908e32903",
   "metadata": {},
   "source": [
    "# a) Add an element \"freedom_fighter\" at the 0th index:"
   ]
  },
  {
   "cell_type": "code",
   "execution_count": 25,
   "id": "7e89f31b-a129-4f40-b729-0a7dee82ce1f",
   "metadata": {},
   "outputs": [
    {
     "data": {
      "text/plain": [
       "['freedom_fighter', 'Mohan', 'dash', 'karam', 'chandra', 'gandhi', 'Bapu']"
      ]
     },
     "execution_count": 25,
     "metadata": {},
     "output_type": "execute_result"
    }
   ],
   "source": [
    "name.insert(0, \"freedom_fighter\")\n",
    "\n",
    "\n",
    "[\"freedom_fighter\", \"Mohan\", \"dash\", \"karam\", \"chandra\", \"gandhi\", \"Bapu\"]\n",
    "\n"
   ]
  },
  {
   "cell_type": "markdown",
   "id": "93826912-b7c1-477c-928f-17dc49c38461",
   "metadata": {},
   "source": [
    "# b) Output and explanation of the given code:"
   ]
  },
  {
   "cell_type": "code",
   "execution_count": 26,
   "id": "51966f81-07a1-420a-8d02-2951eb0b1c4b",
   "metadata": {},
   "outputs": [
    {
     "name": "stdout",
     "output_type": "stream",
     "text": [
      "8\n"
     ]
    }
   ],
   "source": [
    "name = [\"freedomFighter\", \"Bapuji\", \"MOhan\", \"dash\", \"karam\", \"chandra\", \"gandhi\"]\n",
    "length1 = len((name[-len(name)+1:-1:2]))\n",
    "length2 = len((name[-len(name)+1:-1:1]))\n",
    "print(length1 + length2)\n"
   ]
  },
  {
   "cell_type": "raw",
   "id": "4b88d26c-a019-41ee-ab48-b17adf784c07",
   "metadata": {},
   "source": [
    "Explanation:\n",
    "\n",
    "name[-len(name)+1:-1:2] selects every second element from the second element to the second last element.\n",
    "name[-len(name)+1:-1:1] selects all elements from the second element to the second last element.\n",
    "Length calculations:\n",
    "\n",
    "length1 = 3 ([\"Bapuji\", \"dash\", \"chandra\"])\n",
    "length2 = 5 ([\"Bapuji\", \"MOhan\", \"dash\", \"karam\", \"chandra\"])"
   ]
  },
  {
   "cell_type": "markdown",
   "id": "828e5600-f577-455e-bf11-3f815d887e27",
   "metadata": {},
   "source": [
    "# c) Add two more elements [\"NetaJi\", \"Bose\"] at the end of the list:"
   ]
  },
  {
   "cell_type": "code",
   "execution_count": 27,
   "id": "4d206d8f-db24-4ff0-8fbd-452ceac7fddf",
   "metadata": {},
   "outputs": [],
   "source": [
    "name.extend([\"NetaJi\", \"Bose\"])\n"
   ]
  },
  {
   "cell_type": "code",
   "execution_count": 28,
   "id": "1e6fa063-0a38-48f0-9aa6-def7847ac5d9",
   "metadata": {},
   "outputs": [
    {
     "data": {
      "text/plain": [
       "['freedom_fighter',\n",
       " 'Mohan',\n",
       " 'dash',\n",
       " 'karam',\n",
       " 'chandra',\n",
       " 'gandhi',\n",
       " 'Bapu',\n",
       " 'NetaJi',\n",
       " 'Bose']"
      ]
     },
     "execution_count": 28,
     "metadata": {},
     "output_type": "execute_result"
    }
   ],
   "source": [
    "[\"freedom_fighter\", \"Mohan\", \"dash\", \"karam\", \"chandra\", \"gandhi\", \"Bapu\", \"NetaJi\", \"Bose\"]\n"
   ]
  },
  {
   "cell_type": "markdown",
   "id": "6a4e3d3c-8465-4088-b16a-c99d4e8341f3",
   "metadata": {},
   "source": [
    "# d) Value of temp and modified list:\n",
    "\n"
   ]
  },
  {
   "cell_type": "code",
   "execution_count": 31,
   "id": "e6d1aed8-cc80-4184-a2dc-9596abc7519d",
   "metadata": {},
   "outputs": [
    {
     "data": {
      "text/plain": [
       "['Mohan', 'dash', 'karam', 'chandra', 'gandhi', 'Bapuji']"
      ]
     },
     "execution_count": 31,
     "metadata": {},
     "output_type": "execute_result"
    }
   ],
   "source": [
    "name = [\"Bapuji\", \"dash\", \"karam\", \"chandra\", \"gandhi\", \"Mohan\"]\n",
    "temp = name[-1]\n",
    "name[-1] = name[0]\n",
    "name[0] = temp\n",
    "\n",
    "# result \n",
    "\n",
    "[\"Mohan\", \"dash\", \"karam\", \"chandra\", \"gandhi\", \"Bapuji\"]\n",
    "\n"
   ]
  },
  {
   "cell_type": "raw",
   "id": "b7e3d891-7042-4cc9-b12b-55a8c1a0cacd",
   "metadata": {},
   "source": [
    "Explanation:\n",
    "\n",
    "temp stores the last element of the list, \"Mohan\".\n",
    "name[-1] is set to the first element, \"Bapuji\".\n",
    "name[0] is set to the value stored in temp, \"Mohan\".\n"
   ]
  },
  {
   "cell_type": "markdown",
   "id": "0e218219-ea85-4388-bd55-07e5fa318d74",
   "metadata": {},
   "source": [
    "# Question 1.4: Finding the output\n",
    "# Given list:"
   ]
  },
  {
   "cell_type": "code",
   "execution_count": 32,
   "id": "9323ee86-4b29-4f28-ab9a-691e080eb380",
   "metadata": {},
   "outputs": [],
   "source": [
    "animal = [\"Human\", \"cat\", \"mat\", \"cat\", \"rat\", \"Human\", \"Lion\"]\n"
   ]
  },
  {
   "cell_type": "code",
   "execution_count": 36,
   "id": "e3de84e7-3120-49b0-87aa-35e380de6c70",
   "metadata": {},
   "outputs": [
    {
     "name": "stdout",
     "output_type": "stream",
     "text": [
      "2\n",
      "4\n",
      "7\n"
     ]
    }
   ],
   "source": [
    "#a) print(animal.count(\"Human\"))\n",
    "print(animal.count(\"Human\"))\n",
    "#Counts the occurrences of \"Human\" in the list.\n",
    "Output: 2\n",
    "# print(animal.index(\"rat\"))\n",
    "print(animal.index(\"rat\"))\n",
    "#Finds the index of the first occurrence of \"rat\".\n",
    "\n",
    "#c) print(len(animal))\n",
    "print(len(animal))\n",
    "\n",
    "#Finds the length of the list.\n"
   ]
  },
  {
   "cell_type": "code",
   "execution_count": null,
   "id": "55e1b73f-2c27-472c-a331-5e286449b526",
   "metadata": {},
   "outputs": [],
   "source": []
  },
  {
   "cell_type": "code",
   "execution_count": null,
   "id": "70385ddc-d57f-44b4-924e-7fd10f3fae41",
   "metadata": {},
   "outputs": [],
   "source": []
  },
  {
   "cell_type": "markdown",
   "id": "29872492-935c-462b-ba44-3a9b24cb9b64",
   "metadata": {},
   "source": [
    "# Question 1.5. tuple1=(10,20,\"Apple\",3.4,'a',[\"master\",\"ji\"],(\"sita\",\"geeta\",22),[{\"roll_no\"N1},\n",
    "{\"name\"N\"Navneet\"}])"
   ]
  },
  {
   "cell_type": "code",
   "execution_count": 37,
   "id": "ebbaf0fd-9bcd-46fc-afc4-381b3dbbd187",
   "metadata": {},
   "outputs": [],
   "source": [
    "tuple1 = (10, 20, \"Apple\", 3.4, 'a', [\"master\", \"ji\"], (\"sita\", \"geeta\", 22), [{\"roll_no\": 1}, {\"name\": \"Navneet\"}])\n"
   ]
  },
  {
   "cell_type": "markdown",
   "id": "4d8f69c4-0b8d-4473-b293-00ef395d95f1",
   "metadata": {},
   "source": [
    "# a) Finds the length of the tuple."
   ]
  },
  {
   "cell_type": "code",
   "execution_count": 38,
   "id": "e1716f1a-3600-4838-b081-1c47501e2be8",
   "metadata": {},
   "outputs": [
    {
     "name": "stdout",
     "output_type": "stream",
     "text": [
      "8\n"
     ]
    }
   ],
   "source": [
    "print(len(tuple1))"
   ]
  },
  {
   "cell_type": "markdown",
   "id": "fd56012a-ee88-40b1-9d7d-f1e0a11f98fa",
   "metadata": {},
   "source": [
    "# b) print(tuple1[-1][-1][\"name\"])\n",
    "\n",
    "\n",
    "\n"
   ]
  },
  {
   "cell_type": "code",
   "execution_count": 40,
   "id": "57c740d4-6076-4262-879b-d1daa31b21de",
   "metadata": {},
   "outputs": [
    {
     "name": "stdout",
     "output_type": "stream",
     "text": [
      "Navneet\n"
     ]
    }
   ],
   "source": [
    "print(tuple1[-1][-1][\"name\"])\n",
    "\n"
   ]
  },
  {
   "cell_type": "markdown",
   "id": "2b71e4c8-b2c8-49fa-abf9-d96ed84ff9d4",
   "metadata": {},
   "source": [
    "# c) Fetch the value of roll_no from this tuple."
   ]
  },
  {
   "cell_type": "raw",
   "id": "2f98d290-b96c-415c-a909-dcae86be8b59",
   "metadata": {},
   "source": [
    "Access the last element of the tuple, then the first element of that list (which is a dictionary), and retrieve the value for the key \"roll_no\""
   ]
  },
  {
   "cell_type": "markdown",
   "id": "4bbf3478-af21-4a35-90b7-9da289dffd1c",
   "metadata": {},
   "source": [
    "# d) print(tuple1[-3][1])"
   ]
  },
  {
   "cell_type": "code",
   "execution_count": 43,
   "id": "3d154020-2142-4295-b65f-579af2e098a8",
   "metadata": {},
   "outputs": [
    {
     "name": "stdout",
     "output_type": "stream",
     "text": [
      "ji\n"
     ]
    }
   ],
   "source": [
    "print(tuple1[-3][1])"
   ]
  },
  {
   "cell_type": "markdown",
   "id": "bc03de69-46b8-47f0-bc87-16e8d42d386a",
   "metadata": {},
   "source": [
    "# e) Fetch the element 22 from this tuple."
   ]
  },
  {
   "cell_type": "raw",
   "id": "ee063fb2-de85-4d71-86c5-671dfb4b8789",
   "metadata": {},
   "source": [
    "Fetch the element '22' from this tuple."
   ]
  },
  {
   "cell_type": "code",
   "execution_count": 46,
   "id": "371c48a0-e980-4fd6-a4d1-97fc14d2b776",
   "metadata": {},
   "outputs": [],
   "source": [
    "element_22 = tuple1[-2][2]\n"
   ]
  },
  {
   "cell_type": "code",
   "execution_count": 47,
   "id": "f555532b-2552-4038-9674-33feffbb6ce4",
   "metadata": {},
   "outputs": [
    {
     "data": {
      "text/plain": [
       "22"
      ]
     },
     "execution_count": 47,
     "metadata": {},
     "output_type": "execute_result"
    }
   ],
   "source": [
    "element_22"
   ]
  },
  {
   "cell_type": "markdown",
   "id": "2391cd77-aae9-419f-950a-3c1ec5ee492e",
   "metadata": {},
   "source": [
    "# 1.6. Write a program to display the appropriate message as per the color of signal(RED-Stop/Yellow-Stay/\n",
    "# Green-Go) at the road crossing."
   ]
  },
  {
   "cell_type": "code",
   "execution_count": 48,
   "id": "408e7974-40ad-4b93-83c1-20bb7efe69b7",
   "metadata": {},
   "outputs": [
    {
     "name": "stdout",
     "output_type": "stream",
     "text": [
      "Stop\n",
      "Stay\n",
      "Go\n"
     ]
    }
   ],
   "source": [
    "def traffic_signal(color):\n",
    "    if color == \"RED\":\n",
    "        return \"Stop\"\n",
    "    elif color == \"YELLOW\":\n",
    "        return \"Stay\"\n",
    "    elif color == \"GREEN\":\n",
    "        return \"Go\"\n",
    "    else:\n",
    "        return \"Invalid color\"\n",
    "\n",
    "# Example usage\n",
    "print(traffic_signal(\"RED\"))    # Output: Stop\n",
    "print(traffic_signal(\"YELLOW\")) # Output: Stay\n",
    "print(traffic_signal(\"GREEN\"))  # Output: Go\n"
   ]
  },
  {
   "cell_type": "markdown",
   "id": "2ef0e188-9ca7-4673-8fc7-3d47fa2957f1",
   "metadata": {},
   "source": [
    "# 1.7. Write a program to create a simple calculator performing only four basic operations(+,-,/,*) ."
   ]
  },
  {
   "cell_type": "code",
   "execution_count": 49,
   "id": "86f34659-4364-4718-ba3d-c9dde9a7b3a4",
   "metadata": {},
   "outputs": [
    {
     "name": "stdout",
     "output_type": "stream",
     "text": [
      "15\n",
      "5\n",
      "50\n",
      "2.0\n"
     ]
    }
   ],
   "source": [
    "def calculator(a, b, operation):\n",
    "    if operation == '+':\n",
    "        return a + b\n",
    "    elif operation == '-':\n",
    "        return a - b\n",
    "    elif operation == '*':\n",
    "        return a * b\n",
    "    elif operation == '/':\n",
    "        if b != 0:\n",
    "            return a / b\n",
    "        else:\n",
    "            return \"Division by zero error\"\n",
    "    else:\n",
    "        return \"Invalid operation\"\n",
    "\n",
    "# Example usage\n",
    "print(calculator(10, 5, '+'))  # Output: 15\n",
    "print(calculator(10, 5, '-'))  # Output: 5\n",
    "print(calculator(10, 5, '*'))  # Output: 50\n",
    "print(calculator(10, 5, '/'))  # Output: 2.0\n"
   ]
  },
  {
   "cell_type": "markdown",
   "id": "b1583aaa-74dd-4756-a60c-00ceb35926f0",
   "metadata": {},
   "source": [
    "# 1.8. Write a program to find the larger of the three pre-specified numbers using ternary operators."
   ]
  },
  {
   "cell_type": "code",
   "execution_count": 50,
   "id": "bee872c5-4b6a-4b67-9056-cc1111238916",
   "metadata": {},
   "outputs": [
    {
     "name": "stdout",
     "output_type": "stream",
     "text": [
      "20\n",
      "30\n"
     ]
    }
   ],
   "source": [
    "def largest_of_three(a, b, c):\n",
    "    return a if (a > b and a > c) else (b if b > c else c)\n",
    "\n",
    "# Example usage\n",
    "print(largest_of_three(10, 20, 15))  # Output: 20\n",
    "print(largest_of_three(30, 20, 25))  # Output: 30\n"
   ]
  },
  {
   "cell_type": "markdown",
   "id": "f94c6423-f1fa-49df-8587-e58a757f4972",
   "metadata": {},
   "source": [
    "# 1.9. Write a program to find the factors of a whole number using a while loop."
   ]
  },
  {
   "cell_type": "code",
   "execution_count": 51,
   "id": "3fc686a5-c3d2-4c6e-a260-fbb4d536bc75",
   "metadata": {},
   "outputs": [
    {
     "name": "stdout",
     "output_type": "stream",
     "text": [
      "[1, 2, 3, 4, 6, 12]\n",
      "[1, 3, 5, 15]\n"
     ]
    }
   ],
   "source": [
    "def factors(n):\n",
    "    i = 1\n",
    "    result = []\n",
    "    while i <= n:\n",
    "        if n % i == 0:\n",
    "            result.append(i)\n",
    "        i += 1\n",
    "    return result\n",
    "\n",
    "# Example usage\n",
    "print(factors(12))  # Output: [1, 2, 3, 4, 6, 12]\n",
    "print(factors(15))  # Output: [1, 3, 5, 15]\n"
   ]
  },
  {
   "cell_type": "markdown",
   "id": "5fb3f9c4-eeec-4c92-a68e-c18972220780",
   "metadata": {},
   "source": [
    "# 1.10. Write a program to find the sum of all the positive numbers entered by the user. As soon as the user enters a negative number, stop taking in any further input from the user and display the sum"
   ]
  },
  {
   "cell_type": "code",
   "execution_count": 52,
   "id": "e6999f4c-992c-47f2-96e0-8749b493f62d",
   "metadata": {},
   "outputs": [],
   "source": [
    "def sum_positive_numbers():\n",
    "    total = 0\n",
    "    while True:\n",
    "        num = int(input(\"Enter a number: \"))\n",
    "        if num < 0:\n",
    "            break\n",
    "        total += num\n",
    "    return total\n",
    "\n",
    "# Example usage\n",
    "# Uncomment the following line to test\n",
    "# print(sum_positive_numbers())\n"
   ]
  },
  {
   "cell_type": "markdown",
   "id": "9eb84a5a-036e-4703-b96b-c257585da6c9",
   "metadata": {},
   "source": [
    "# 1.11. Write a program to find prime numbers between 2 to 100 using nested for loops."
   ]
  },
  {
   "cell_type": "code",
   "execution_count": 54,
   "id": "be3199b6-3d72-4dec-bfc2-0fd714d6c4da",
   "metadata": {},
   "outputs": [
    {
     "name": "stdout",
     "output_type": "stream",
     "text": [
      "[2, 3, 5, 7, 11, 13, 17, 19, 23, 29, 31, 37, 41, 43, 47, 53, 59, 61, 67, 71, 73, 79, 83, 89, 97]\n"
     ]
    }
   ],
   "source": [
    "def prime_numbers():\n",
    "    primes = []\n",
    "    for num in range(2, 101):\n",
    "        is_prime = True\n",
    "        for i in range(2, int(num**0.5) + 1):\n",
    "            if num % i == 0:\n",
    "                is_prime = False\n",
    "                break\n",
    "        if is_prime:\n",
    "            primes.append(num)\n",
    "    return primes\n",
    "\n",
    "# Example usage\n",
    "print(prime_numbers())  # Output: List of prime numbers between 2 and 100\n"
   ]
  },
  {
   "cell_type": "markdown",
   "id": "dde9f9f5-d787-448c-aa4e-828156957a21",
   "metadata": {},
   "source": [
    "# 1.12. Write the programs for the followingM\n"
   ]
  },
  {
   "cell_type": "raw",
   "id": "09c99452-5fe3-4cf9-9698-b3b598668043",
   "metadata": {},
   "source": [
    ". Accept the marks of the student in five major subjects and disTlay the sameS\n",
    ". Calculate the sum of the marks of all subjects.Divide the total marks by number of subjects (i.e. 5), calculate\n",
    "Tercentage = total marks/5 and disTlay the TercentageS\n",
    ". Find the grade of the student as Ter the following criteria . Hint: Use Match & case for this.:"
   ]
  },
  {
   "cell_type": "markdown",
   "id": "803fd8db-6d5b-4b71-b1fc-ae92261a5ade",
   "metadata": {},
   "source": [
    "# a) Accept the marks of the student in five major subjects and display the same"
   ]
  },
  {
   "cell_type": "code",
   "execution_count": 58,
   "id": "a8a13255-b438-4666-8440-a26ee6995ad8",
   "metadata": {},
   "outputs": [],
   "source": [
    "def accept_marks():\n",
    "    subjects = [\"Subject1\", \"Subject2\", \"Subject3\", \"Subject4\", \"Subject5\"]\n",
    "    marks = []\n",
    "    for subject in subjects:\n",
    "        mark = int(input(f\"Enter marks for {subject}: \"))\n",
    "        marks.append(mark)\n",
    "    return marks\n",
    "\n",
    "# Example usage\n",
    "# Uncomment the following lines to test\n",
    "# marks = accept_marks()\n",
    " # print(marks)\n"
   ]
  },
  {
   "cell_type": "markdown",
   "id": "888a1c1a-9ff1-492a-a7ef-c726aa616032",
   "metadata": {},
   "source": [
    "# b) Calculate the sum of the marks of all subjects, divide by the number of subjects to get the percentage.\n",
    "\n"
   ]
  },
  {
   "cell_type": "code",
   "execution_count": 59,
   "id": "ffa47da2-23a3-4959-acd7-3e41c8118ac0",
   "metadata": {},
   "outputs": [],
   "source": [
    "def calculate_percentage(marks):\n",
    "    total_marks = sum(marks)\n",
    "    percentage = total_marks / len(marks)\n",
    "    return percentage\n",
    "\n",
    "# Example usage\n",
    "# Uncomment the following lines to test\n",
    "# percentage = calculate_percentage(marks)\n",
    "# print(percentage)\n"
   ]
  },
  {
   "cell_type": "markdown",
   "id": "5239347b-fe4b-4f48-814f-578fe54e964f",
   "metadata": {},
   "source": [
    "# c) Find the grade of the student as per the criteria."
   ]
  },
  {
   "cell_type": "code",
   "execution_count": 60,
   "id": "d36fe324-8952-4ff1-9d21-c297f1585327",
   "metadata": {},
   "outputs": [],
   "source": [
    "def find_grade(percentage):\n",
    "    if percentage > 85:\n",
    "        return \"A\"\n",
    "    elif 75 <= percentage <= 85:\n",
    "        return \"B\"\n",
    "    elif 50 <= percentage < 75:\n",
    "        return \"C\"\n",
    "    elif 30 <= percentage < 50:\n",
    "        return \"D\"\n",
    "    else:\n",
    "        return \"Reappear\"\n",
    "\n",
    "# Example usage\n",
    "# Uncomment the following lines to test\n",
    "# grade = find_grade(percentage)\n",
    "# print(grade)\n"
   ]
  },
  {
   "cell_type": "code",
   "execution_count": 61,
   "id": "6cdaca27-2c99-4364-984d-13fa2044c869",
   "metadata": {},
   "outputs": [],
   "source": [
    "def student_grades():\n",
    "    marks = accept_marks()\n",
    "    percentage = calculate_percentage(marks)\n",
    "    grade = find_grade(percentage)\n",
    "    print(f\"Marks: {marks}\")\n",
    "    print(f\"Percentage: {percentage}%\")\n",
    "    print(f\"Grade: {grade}\")\n",
    "\n",
    "# Example usage\n",
    "# Uncomment the following line to test\n",
    "# student_grades()\n"
   ]
  },
  {
   "cell_type": "code",
   "execution_count": null,
   "id": "6833c0a3-9203-4023-8aac-8aafdd6aebbe",
   "metadata": {},
   "outputs": [],
   "source": []
  },
  {
   "cell_type": "code",
   "execution_count": null,
   "id": "cd457ed2-d5ae-40e2-8bc5-9db1cb79f539",
   "metadata": {},
   "outputs": [],
   "source": []
  },
  {
   "cell_type": "markdown",
   "id": "8bfdf374-b2a0-4cde-a6ec-deae8ab9787e",
   "metadata": {},
   "source": [
    "# 1.13. Write a program for VIBGYOR Spectrum based on their Wavelength using.\n",
    "# Wavelength Range:"
   ]
  },
  {
   "cell_type": "code",
   "execution_count": 62,
   "id": "4b4513b6-9cf4-4269-9dea-36fd63570039",
   "metadata": {},
   "outputs": [
    {
     "name": "stdout",
     "output_type": "stream",
     "text": [
      "Indigo\n",
      "Yellow\n",
      "Red\n"
     ]
    }
   ],
   "source": [
    "def get_color(wavelength):\n",
    "    if 400 <= wavelength <= 440:\n",
    "        return \"Violet\"\n",
    "    elif 440 < wavelength <= 460:\n",
    "        return \"Indigo\"\n",
    "    elif 460 < wavelength <= 500:\n",
    "        return \"Blue\"\n",
    "    elif 500 < wavelength <= 570:\n",
    "        return \"Green\"\n",
    "    elif 570 < wavelength <= 590:\n",
    "        return \"Yellow\"\n",
    "    elif 590 < wavelength <= 620:\n",
    "        return \"Orange\"\n",
    "    elif 620 < wavelength <= 720:\n",
    "        return \"Red\"\n",
    "    else:\n",
    "        return \"Wavelength out of range\"\n",
    "\n",
    "# Example usage\n",
    "print(get_color(450))  # Output: Indigo\n",
    "print(get_color(575))  # Output: Yellow\n",
    "print(get_color(650))  # Output: Red\n"
   ]
  },
  {
   "cell_type": "markdown",
   "id": "075e0971-8e47-490e-970e-03f8c898b6f4",
   "metadata": {},
   "source": [
    "# 1.14.Consider the gravitational interactions between the Earth, Moon, and Sun in our solar system.\n",
    "Given:"
   ]
  },
  {
   "cell_type": "raw",
   "id": "9d00a9ec-6b88-4723-95d2-44348a6e61af",
   "metadata": {},
   "source": [
    "mass_earth = 5.972e24 # Mass of Earth in kilograms\n",
    "mass_moon = 7.34767309e22 # Mass of Moon in kilograms\n",
    "mass_sun = .989e30 # Mass of Sun in kilograms\n",
    "distan0e_earth_sun = .496e # Average distan0e between Earth and Sun in meters\n",
    "distan0e_moon_earth = 3.844e8 # Average distan0e between Moon and Earth in meters\n",
    "Tasks\n",
    "/ Cal0ulate the gravitational for0e between the Earth and the Sun\n",
    "/ Cal0ulate the gravitational for0e between the Moon and the Earth\n",
    "/ Compare the 0al0ulated for0es to determine whi0h gravitational for0e is stronger\n",
    "/ Explain whi0h 0elestial body (Earth or Moon is more attra0ted to the other based on the 0omparison."
   ]
  },
  {
   "cell_type": "markdown",
   "id": "0e503b8a-a1c9-4205-b71c-ea05dcf9c057",
   "metadata": {},
   "source": [
    "# a) Gravitational force between the Earth and the Sun:"
   ]
  },
  {
   "cell_type": "code",
   "execution_count": 63,
   "id": "74f8ca64-4acf-498f-b29c-0c4673e4452d",
   "metadata": {},
   "outputs": [
    {
     "name": "stdout",
     "output_type": "stream",
     "text": [
      "Gravitational force between Earth and Sun: 3.5423960813684973e+22 N\n"
     ]
    }
   ],
   "source": [
    "G = 6.67430e-11  # gravitational constant in m^3 kg^-1 s^-2\n",
    "mass_earth = 5.972e24  # mass of Earth in kg\n",
    "mass_sun = 1.989e30  # mass of Sun in kg\n",
    "distance_earth_sun = 1.496e11  # distance between Earth and Sun in meters\n",
    "\n",
    "force_earth_sun = G * (mass_earth * mass_sun) / (distance_earth_sun ** 2)\n",
    "print(f\"Gravitational force between Earth and Sun: {force_earth_sun} N\")\n"
   ]
  },
  {
   "cell_type": "markdown",
   "id": "67e4a4b7-a569-4dfc-a3ad-3b0149b500c4",
   "metadata": {},
   "source": [
    "# b) Gravitational force between the Moon and the Earth:"
   ]
  },
  {
   "cell_type": "code",
   "execution_count": 64,
   "id": "058e30c8-72aa-4a03-82a2-e2f2b01347b3",
   "metadata": {},
   "outputs": [
    {
     "name": "stdout",
     "output_type": "stream",
     "text": [
      "Gravitational force between Moon and Earth: 1.9820225456526813e+20 N\n"
     ]
    }
   ],
   "source": [
    "mass_moon = 7.34767309e22  # mass of Moon in kg\n",
    "distance_moon_earth = 3.844e8  # distance between Moon and Earth in meters\n",
    "\n",
    "force_moon_earth = G * (mass_earth * mass_moon) / (distance_moon_earth ** 2)\n",
    "print(f\"Gravitational force between Moon and Earth: {force_moon_earth} N\")\n"
   ]
  },
  {
   "cell_type": "markdown",
   "id": "e40e7288-1a5f-4abb-bab4-dfb45a6a5eb1",
   "metadata": {},
   "source": [
    "# C)Compare the 0al0ulated for0es to determine whi0h gravitational for0e is stronger"
   ]
  },
  {
   "cell_type": "code",
   "execution_count": 65,
   "id": "3d9a770e-321f-48bc-9656-962ced60aba4",
   "metadata": {},
   "outputs": [
    {
     "name": "stdout",
     "output_type": "stream",
     "text": [
      "The gravitational force between the Earth and the Sun is stronger.\n"
     ]
    }
   ],
   "source": [
    "if force_earth_sun > force_moon_earth:\n",
    "    print(\"The gravitational force between the Earth and the Sun is stronger.\")\n",
    "else:\n",
    "    print(\"The gravitational force between the Moon and the Earth is stronger.\")\n"
   ]
  },
  {
   "cell_type": "markdown",
   "id": "3149715b-676a-4e1c-846d-3087a51f9544",
   "metadata": {},
   "source": [
    "# D) Explain whi0h 0elestial body (Earth or Moon is more attra0ted to the other based on the 0omparison."
   ]
  },
  {
   "cell_type": "code",
   "execution_count": 66,
   "id": "f201429f-14b7-45f4-a4bc-f70b2b6902b2",
   "metadata": {},
   "outputs": [
    {
     "name": "stdout",
     "output_type": "stream",
     "text": [
      "The Earth is more attracted to the Sun based on the gravitational force.\n"
     ]
    }
   ],
   "source": [
    "if force_earth_sun > force_moon_earth:\n",
    "    print(\"The Earth is more attracted to the Sun based on the gravitational force.\")\n",
    "else:\n",
    "    print(\"The Moon is more attracted to the Earth based on the gravitational force.\")\n"
   ]
  },
  {
   "cell_type": "code",
   "execution_count": 67,
   "id": "b4fdfdd8-7e81-45ff-80d2-fad5b0fda810",
   "metadata": {},
   "outputs": [
    {
     "name": "stdout",
     "output_type": "stream",
     "text": [
      "Gravitational force between Earth and Sun: 3.5423960813684973e+22 N\n",
      "Gravitational force between Moon and Earth: 1.9820225456526813e+20 N\n",
      "The gravitational force between the Earth and the Sun is stronger.\n",
      "The Earth is more attracted to the Sun based on the gravitational force.\n"
     ]
    }
   ],
   "source": [
    "# Constants\n",
    "G = 6.67430e-11  # gravitational constant in m^3 kg^-1 s^-2\n",
    "mass_earth = 5.972e24  # mass of Earth in kg\n",
    "mass_moon = 7.34767309e22  # mass of Moon in kg\n",
    "mass_sun = 1.989e30  # mass of Sun in kg\n",
    "distance_earth_sun = 1.496e11  # distance between Earth and Sun in meters\n",
    "distance_moon_earth = 3.844e8  # distance between Moon and Earth in meters\n",
    "\n",
    "# Calculate gravitational forces\n",
    "force_earth_sun = G * (mass_earth * mass_sun) / (distance_earth_sun ** 2)\n",
    "force_moon_earth = G * (mass_earth * mass_moon) / (distance_moon_earth ** 2)\n",
    "\n",
    "# Output results\n",
    "print(f\"Gravitational force between Earth and Sun: {force_earth_sun} N\")\n",
    "print(f\"Gravitational force between Moon and Earth: {force_moon_earth} N\")\n",
    "\n",
    "if force_earth_sun > force_moon_earth:\n",
    "    print(\"The gravitational force between the Earth and the Sun is stronger.\")\n",
    "    print(\"The Earth is more attracted to the Sun based on the gravitational force.\")\n",
    "else:\n",
    "    print(\"The gravitational force between the Moon and the Earth is stronger.\")\n",
    "    print(\"The Moon is more attracted to the Earth based on the gravitational force.\")\n"
   ]
  },
  {
   "cell_type": "markdown",
   "id": "24511dfc-a91e-44b2-882e-a132d96c6632",
   "metadata": {},
   "source": [
    "# 2. Design and implement a Python program for managing student information using object-oriented\n",
    "# principles. Create a class called `Student` with encapsulated attributes for name, age, and roll number.\n",
    "# Implement getter and setter methods for these attributes. Additionally, provide methods to display student\n",
    "# information and update student details."
   ]
  },
  {
   "cell_type": "raw",
   "id": "77935746-f576-4390-8ec4-d6aee5199c66",
   "metadata": {},
   "source": [
    "Tasks\n",
    ". Define the `Student` class with encapsulated attributes\n",
    ". Implement getter and setter methods for the attributes\n",
    ". Write methods to display student information and update details\n",
    ". Create instances of the `Student` class and test the implemented functionality"
   ]
  },
  {
   "cell_type": "markdown",
   "id": "9a6fba32-2ebf-4a1a-ba39-7c399a218f29",
   "metadata": {},
   "source": [
    "#  Define the `Student` class with encapsulated attributes"
   ]
  },
  {
   "cell_type": "code",
   "execution_count": 68,
   "id": "f562da56-9d32-4ebe-86c0-929bc3e6dc89",
   "metadata": {},
   "outputs": [],
   "source": [
    "class Student:\n",
    "    def __init__(self, name, age, roll_number):\n",
    "        self.__name = name\n",
    "        self.__age = age\n",
    "        self.__roll_number = roll_number\n",
    "\n",
    "    # Getter methods\n",
    "    def get_name(self):\n",
    "        return self.__name\n",
    "\n",
    "    def get_age(self):\n",
    "        return self.__age\n",
    "\n",
    "    def get_roll_number(self):\n",
    "        return self.__roll_number\n",
    "\n",
    "    # Setter methods\n",
    "    def set_name(self, name):\n",
    "        self.__name = name\n",
    "\n",
    "    def set_age(self, age):\n",
    "        self.__age = age\n",
    "\n",
    "    def set_roll_number(self, roll_number):\n",
    "        self.__roll_number = roll_number\n",
    "\n",
    "    # Method to display student information\n",
    "    def display_info(self):\n",
    "        print(f\"Name: {self.__name}, Age: {self.__age}, Roll Number: {self.__roll_number}\")\n",
    "\n",
    "    # Method to update student details\n",
    "    def update_details(self, name=None, age=None, roll_number=None):\n",
    "        if name:\n",
    "            self.set_name(name)\n",
    "        if age:\n",
    "            self.set_age(age)\n",
    "        if roll_number:\n",
    "            self.set_roll_number(roll_number)\n"
   ]
  },
  {
   "cell_type": "markdown",
   "id": "11bf3d72-94db-4a81-a7f6-5bcaec1508fb",
   "metadata": {},
   "source": [
    "# Implement getter and setter methods for the attributes"
   ]
  },
  {
   "cell_type": "code",
   "execution_count": 69,
   "id": "f472554f-7c13-41e5-a1b9-6a8dadbd7e55",
   "metadata": {},
   "outputs": [
    {
     "name": "stdout",
     "output_type": "stream",
     "text": [
      "Name: Alice, Age: 20, Roll Number: S001\n",
      "Name: Bob, Age: 22, Roll Number: S002\n",
      "Name: Alice, Age: 21, Roll Number: S003\n"
     ]
    }
   ],
   "source": [
    "# Create instances of the Student class\n",
    "student1 = Student(\"Alice\", 20, \"S001\")\n",
    "student2 = Student(\"Bob\", 22, \"S002\")\n",
    "\n",
    "# Display information\n",
    "student1.display_info()\n",
    "student2.display_info()\n",
    "\n",
    "# Update details\n",
    "student1.update_details(age=21, roll_number=\"S003\")\n",
    "student1.display_info()\n"
   ]
  },
  {
   "cell_type": "markdown",
   "id": "ef076dc2-8056-4167-9539-f67c9aac3a2c",
   "metadata": {},
   "source": [
    "# 3. Managing Library Resources"
   ]
  },
  {
   "cell_type": "code",
   "execution_count": 70,
   "id": "5a4abaf1-a035-47e7-ad3c-922def7fbbe3",
   "metadata": {},
   "outputs": [],
   "source": [
    "class LibraryBook:\n",
    "    def __init__(self, book_name, author, available=True):\n",
    "        self.__book_name = book_name\n",
    "        self.__author = author\n",
    "        self.__available = available\n",
    "\n",
    "    # Getter methods\n",
    "    def get_book_name(self):\n",
    "        return self.__book_name\n",
    "\n",
    "    def get_author(self):\n",
    "        return self.__author\n",
    "\n",
    "    def is_available(self):\n",
    "        return self.__available\n",
    "\n",
    "    # Method to borrow a book\n",
    "    def borrow_book(self):\n",
    "        if self.__available:\n",
    "            self.__available = False\n",
    "            print(f\"The book '{self.__book_name}' has been borrowed.\")\n",
    "        else:\n",
    "            print(f\"Sorry, the book '{self.__book_name}' is currently unavailable.\")\n",
    "\n",
    "    # Method to return a book\n",
    "    def return_book(self):\n",
    "        if not self.__available:\n",
    "            self.__available = True\n",
    "            print(f\"The book '{self.__book_name}' has been returned.\")\n",
    "        else:\n",
    "            print(f\"The book '{self.__book_name}' was not borrowed.\")\n",
    "\n",
    "    # Method to display book information\n",
    "    def display_info(self):\n",
    "        status = \"Available\" if self.__available else \"Not Available\"\n",
    "        print(f\"Book Name: {self.__book_name}, Author: {self.__author}, Status: {status}\")\n"
   ]
  },
  {
   "cell_type": "markdown",
   "id": "7baa8b84-df31-4651-9a0b-5e056bb8cc15",
   "metadata": {},
   "source": [
    "# Create instances of the `Student` class and test the implemented functionality"
   ]
  },
  {
   "cell_type": "code",
   "execution_count": 72,
   "id": "af6cfc50-d239-41fb-b812-afa045262b68",
   "metadata": {},
   "outputs": [
    {
     "name": "stdout",
     "output_type": "stream",
     "text": [
      "Initial Student Information:\n",
      "Name: Alice, Age: 20, Roll Number: S001\n",
      "Name: Bob, Age: 22, Roll Number: S002\n",
      "\n",
      "Updating Student1's details:\n",
      "Name: Alice, Age: 21, Roll Number: S003\n",
      "\n",
      "Updating Student2's details:\n",
      "Name: Robert, Age: 23, Roll Number: S002\n"
     ]
    }
   ],
   "source": [
    "class Student:\n",
    "    def __init__(self, name, age, roll_number):\n",
    "        self.__name = name\n",
    "        self.__age = age\n",
    "        self.__roll_number = roll_number\n",
    "\n",
    "    # Getter methods\n",
    "    def get_name(self):\n",
    "        return self.__name\n",
    "\n",
    "    def get_age(self):\n",
    "        return self.__age\n",
    "\n",
    "    def get_roll_number(self):\n",
    "        return self.__roll_number\n",
    "\n",
    "    # Setter methods\n",
    "    def set_name(self, name):\n",
    "        self.__name = name\n",
    "\n",
    "    def set_age(self, age):\n",
    "        self.__age = age\n",
    "\n",
    "    def set_roll_number(self, roll_number):\n",
    "        self.__roll_number = roll_number\n",
    "\n",
    "    # Method to display student information\n",
    "    def display_info(self):\n",
    "        print(f\"Name: {self.__name}, Age: {self.__age}, Roll Number: {self.__roll_number}\")\n",
    "\n",
    "    # Method to update student details\n",
    "    def update_details(self, name=None, age=None, roll_number=None):\n",
    "        if name:\n",
    "            self.set_name(name)\n",
    "        if age:\n",
    "            self.set_age(age)\n",
    "        if roll_number:\n",
    "            self.set_roll_number(roll_number)\n",
    "\n",
    "\n",
    "\n",
    "# Create instances of the Student class\n",
    "student1 = Student(\"Alice\", 20, \"S001\")\n",
    "student2 = Student(\"Bob\", 22, \"S002\")\n",
    "\n",
    "# Display information of both students\n",
    "print(\"Initial Student Information:\")\n",
    "student1.display_info()\n",
    "student2.display_info()\n",
    "\n",
    "# Update details for student1\n",
    "print(\"\\nUpdating Student1's details:\")\n",
    "student1.update_details(age=21, roll_number=\"S003\")\n",
    "student1.display_info()\n",
    "\n",
    "# Update details for student2\n",
    "print(\"\\nUpdating Student2's details:\")\n",
    "student2.update_details(name=\"Robert\", age=23)\n",
    "student2.display_info()\n"
   ]
  },
  {
   "cell_type": "markdown",
   "id": "907e16bc-b8de-4243-9e12-ebc78c3a5d7d",
   "metadata": {},
   "source": [
    "# 3.Develop a Python program for managing library resources efficiently. Design a class named `LibraryBoo`\n",
    "# with attributes lie boo name, author, and availability status. Implement methods for borrowing and\n",
    "returning boos while ensuring proper encapsulation of attributes."
   ]
  },
  {
   "cell_type": "markdown",
   "id": "580d2b89-0a57-4ebb-abe7-6844986a403d",
   "metadata": {},
   "source": [
    "# 2. Implement Methods for Borrowing and Returning Books"
   ]
  },
  {
   "cell_type": "code",
   "execution_count": 73,
   "id": "3a7e2f34-b60f-43cc-8309-5c1f8c88df3f",
   "metadata": {},
   "outputs": [],
   "source": [
    "    # Method to borrow a book\n",
    "    def borrow_book(self):\n",
    "        if self.__available:\n",
    "            self.__available = False\n",
    "            print(f\"The book '{self.__book_name}' has been borrowed.\")\n",
    "        else:\n",
    "            print(f\"Sorry, the book '{self.__book_name}' is currently unavailable.\")\n",
    "\n",
    "    # Method to return a book\n",
    "    def return_book(self):\n",
    "        if not self.__available:\n",
    "            self.__available = True\n",
    "            print(f\"The book '{self.__book_name}' has been returned.\")\n",
    "        else:\n",
    "            print(f\"The book '{self.__book_name}' was not borrowed.\")\n"
   ]
  },
  {
   "cell_type": "markdown",
   "id": "11ba8fef-f1a6-4109-9d68-f7fe175ee6fb",
   "metadata": {},
   "source": [
    "# 3. Ensure Proper Encapsulation to Protect Book Details"
   ]
  },
  {
   "cell_type": "raw",
   "id": "b812d95b-935d-4525-b200-950a41e0df3d",
   "metadata": {},
   "source": [
    "The class design above ensures proper encapsulation by making attributes private using double underscores (__). Access to these attributes is provided via getter methods.\n",
    "\n"
   ]
  },
  {
   "cell_type": "markdown",
   "id": "a8cc3617-08a3-463d-b4da-0a7e9ebc93a4",
   "metadata": {},
   "source": [
    "# 4. Test the Borrowing and Returning Functionality with Sample Data\n"
   ]
  },
  {
   "cell_type": "code",
   "execution_count": 75,
   "id": "38dfb2a7-f248-4b1a-be86-d19e4f7c6314",
   "metadata": {},
   "outputs": [
    {
     "name": "stdout",
     "output_type": "stream",
     "text": [
      "Initial Book Information:\n",
      "Book Name: 1984, Author: George Orwell, Status: Available\n",
      "Book Name: To Kill a Mockingbird, Author: Harper Lee, Status: Available\n",
      "Book Name: The Great Gatsby, Author: F. Scott Fitzgerald, Status: Available\n",
      "\n",
      "Borrowing and Returning Books:\n",
      "The book '1984' has been borrowed.\n",
      "Book Name: 1984, Author: George Orwell, Status: Not Available\n",
      "The book '1984' has been returned.\n",
      "Book Name: 1984, Author: George Orwell, Status: Available\n",
      "The book 'To Kill a Mockingbird' has been borrowed.\n",
      "Book Name: To Kill a Mockingbird, Author: Harper Lee, Status: Not Available\n",
      "Sorry, the book 'To Kill a Mockingbird' is currently unavailable.\n",
      "Book Name: To Kill a Mockingbird, Author: Harper Lee, Status: Not Available\n",
      "The book 'To Kill a Mockingbird' has been returned.\n",
      "Book Name: To Kill a Mockingbird, Author: Harper Lee, Status: Available\n"
     ]
    }
   ],
   "source": [
    "# Create instances of the LibraryBook class\n",
    "book1 = LibraryBook(\"1984\", \"George Orwell\")\n",
    "book2 = LibraryBook(\"To Kill a Mockingbird\", \"Harper Lee\")\n",
    "book3 = LibraryBook(\"The Great Gatsby\", \"F. Scott Fitzgerald\")\n",
    "\n",
    "# Display initial information for each book\n",
    "print(\"Initial Book Information:\")\n",
    "book1.display_info()\n",
    "book2.display_info()\n",
    "book3.display_info()\n",
    "\n",
    "# Borrow and return books\n",
    "print(\"\\nBorrowing and Returning Books:\")\n",
    "book1.borrow_book()\n",
    "book1.display_info()\n",
    "\n",
    "book1.return_book()\n",
    "book1.display_info()\n",
    "\n",
    "book2.borrow_book()\n",
    "book2.display_info()\n",
    "\n",
    "book2.borrow_book()  # Attempt to borrow an already borrowed book\n",
    "book2.display_info()\n",
    "\n",
    "book2.return_book()\n",
    "book2.display_info()\n"
   ]
  },
  {
   "cell_type": "code",
   "execution_count": 76,
   "id": "3ceb3d45-f8c2-42e0-ae32-4aef4f78ddb7",
   "metadata": {},
   "outputs": [
    {
     "name": "stdout",
     "output_type": "stream",
     "text": [
      "Initial Book Information:\n",
      "Book Name: 1984, Author: George Orwell, Status: Available\n",
      "Book Name: To Kill a Mockingbird, Author: Harper Lee, Status: Available\n",
      "Book Name: The Great Gatsby, Author: F. Scott Fitzgerald, Status: Available\n",
      "\n",
      "Borrowing and Returning Books:\n",
      "The book '1984' has been borrowed.\n",
      "Book Name: 1984, Author: George Orwell, Status: Not Available\n",
      "The book '1984' has been returned.\n",
      "Book Name: 1984, Author: George Orwell, Status: Available\n",
      "The book 'To Kill a Mockingbird' has been borrowed.\n",
      "Book Name: To Kill a Mockingbird, Author: Harper Lee, Status: Not Available\n",
      "Sorry, the book 'To Kill a Mockingbird' is currently unavailable.\n",
      "Book Name: To Kill a Mockingbird, Author: Harper Lee, Status: Not Available\n",
      "The book 'To Kill a Mockingbird' has been returned.\n",
      "Book Name: To Kill a Mockingbird, Author: Harper Lee, Status: Available\n"
     ]
    }
   ],
   "source": [
    "class LibraryBook:\n",
    "    def __init__(self, book_name, author, available=True):\n",
    "        self.__book_name = book_name\n",
    "        self.__author = author\n",
    "        self.__available = available\n",
    "\n",
    "    # Getter methods\n",
    "    def get_book_name(self):\n",
    "        return self.__book_name\n",
    "\n",
    "    def get_author(self):\n",
    "        return self.__author\n",
    "\n",
    "    def is_available(self):\n",
    "        return self.__available\n",
    "\n",
    "    # Method to borrow a book\n",
    "    def borrow_book(self):\n",
    "        if self.__available:\n",
    "            self.__available = False\n",
    "            print(f\"The book '{self.__book_name}' has been borrowed.\")\n",
    "        else:\n",
    "            print(f\"Sorry, the book '{self.__book_name}' is currently unavailable.\")\n",
    "\n",
    "    # Method to return a book\n",
    "    def return_book(self):\n",
    "        if not self.__available:\n",
    "            self.__available = True\n",
    "            print(f\"The book '{self.__book_name}' has been returned.\")\n",
    "        else:\n",
    "            print(f\"The book '{self.__book_name}' was not borrowed.\")\n",
    "\n",
    "    # Method to display book information\n",
    "    def display_info(self):\n",
    "        status = \"Available\" if self.__available else \"Not Available\"\n",
    "        print(f\"Book Name: {self.__book_name}, Author: {self.__author}, Status: {status}\")\n",
    "\n",
    "# Create instances of the LibraryBook class\n",
    "book1 = LibraryBook(\"1984\", \"George Orwell\")\n",
    "book2 = LibraryBook(\"To Kill a Mockingbird\", \"Harper Lee\")\n",
    "book3 = LibraryBook(\"The Great Gatsby\", \"F. Scott Fitzgerald\")\n",
    "\n",
    "# Display initial information for each book\n",
    "print(\"Initial Book Information:\")\n",
    "book1.display_info()\n",
    "book2.display_info()\n",
    "book3.display_info()\n",
    "\n",
    "# Borrow and return books\n",
    "print(\"\\nBorrowing and Returning Books:\")\n",
    "book1.borrow_book()\n",
    "book1.display_info()\n",
    "\n",
    "book1.return_book()\n",
    "book1.display_info()\n",
    "\n",
    "book2.borrow_book()\n",
    "book2.display_info()\n",
    "\n",
    "book2.borrow_book()  # Attempt to borrow an already borrowed book\n",
    "book2.display_info()\n",
    "\n",
    "book2.return_book()\n",
    "book2.display_info()\n"
   ]
  },
  {
   "cell_type": "markdown",
   "id": "cc2e3947-f76c-432c-8ff7-25e88916625c",
   "metadata": {},
   "source": [
    "# 4.Create a simple baning system using object-oriented concepts in Python. Design classes representing\n",
    "# different types of ban accounts such as savings and checing. Implement methods for deposit, withdraw,\n",
    "# and balance inquiry. Utilize inheritance to manage different account types efficiently.\n",
    "\n",
    "# Tasks\n",
    "\n"
   ]
  },
  {
   "cell_type": "raw",
   "id": "9bbc1543-e294-45b0-a791-b4864309485d",
   "metadata": {},
   "source": [
    "1. Define base class(es) for bank accounts with common attributes and methods\n",
    "2. Implement subclasses for specific account types (e.g., SavingsAccount, CheckingAccount)\n",
    "3. Provide methods for deposit, withdraw, and balance inquiry in each subclass\n",
    "4. Test the banking system by creating instances of different account types and performing transactions."
   ]
  },
  {
   "cell_type": "markdown",
   "id": "e7d2a8a4-a072-47a6-ab42-812fb4ae1e5e",
   "metadata": {},
   "source": [
    "# 1. Define base class(es) for bank accounts with common attributes and methods"
   ]
  },
  {
   "cell_type": "code",
   "execution_count": 78,
   "id": "6ca72ae9-2602-47a7-a064-2970fed39276",
   "metadata": {},
   "outputs": [],
   "source": [
    "class BankAccount:\n",
    "    def __init__(self, account_number, balance=0.0):\n",
    "        self._account_number = account_number\n",
    "        self._balance = balance\n",
    "\n",
    "    # Method to deposit money\n",
    "    def deposit(self, amount):\n",
    "        if amount > 0:\n",
    "            self._balance += amount\n",
    "            print(f\"Deposited {amount}. New balance: {self._balance}\")\n",
    "        else:\n",
    "            print(\"Deposit amount must be positive.\")\n",
    "\n",
    "    # Method to withdraw money\n",
    "    def withdraw(self, amount):\n",
    "        if amount > self._balance:\n",
    "            print(\"Insufficient funds!\")\n",
    "        elif amount <= 0:\n",
    "            print(\"Withdrawal amount must be positive.\")\n",
    "        else:\n",
    "            self._balance -= amount\n",
    "            print(f\"Withdrew {amount}. New balance: {self._balance}\")\n",
    "\n",
    "    # Method to inquire balance\n",
    "    def balance_inquiry(self):\n",
    "        print(f\"Account balance: {self._balance}\")\n",
    "\n",
    "    # Getter for account number\n",
    "    def get_account_number(self):\n",
    "        return self._account_number\n"
   ]
  },
  {
   "cell_type": "markdown",
   "id": "10c3acbc-48c2-4111-83a0-665619b38577",
   "metadata": {},
   "source": [
    "# 2. Implement subclasses for specific account types (e.g., SavingsAccount, CheckingAccount)"
   ]
  },
  {
   "cell_type": "code",
   "execution_count": 79,
   "id": "14f2ff16-9678-4088-a7b6-878ba5dad6c8",
   "metadata": {},
   "outputs": [],
   "source": [
    "class SavingsAccount(BankAccount):\n",
    "    def __init__(self, account_number, balance=0.0, interest_rate=0.01):\n",
    "        super().__init__(account_number, balance)\n",
    "        self.interest_rate = interest_rate\n",
    "\n",
    "    # Method to add interest\n",
    "    def add_interest(self):\n",
    "        interest = self._balance * self.interest_rate\n",
    "        self._balance += interest\n",
    "        print(f\"Interest added: {interest}. New balance: {self._balance}\")\n",
    "\n",
    "class CheckingAccount(BankAccount):\n",
    "    def __init__(self, account_number, balance=0.0, overdraft_limit=100.0):\n",
    "        super().__init__(account_number, balance)\n",
    "        self.overdraft_limit = overdraft_limit\n",
    "\n",
    "    # Override withdraw method to include overdraft limit\n",
    "    def withdraw(self, amount):\n",
    "        if amount > self._balance + self.overdraft_limit:\n",
    "            print(\"Overdraft limit exceeded!\")\n",
    "        elif amount <= 0:\n",
    "            print(\"Withdrawal amount must be positive.\")\n",
    "        else:\n",
    "            self._balance -= amount\n",
    "            print(f\"Withdrew {amount}. New balance: {self._balance}\")\n"
   ]
  },
  {
   "cell_type": "markdown",
   "id": "5c677e81-2eaf-402b-a183-e74ecc89d546",
   "metadata": {},
   "source": [
    "# 3. Provide methods for deposit, withdraw, and balance inquiry in each subclass"
   ]
  },
  {
   "cell_type": "raw",
   "id": "bcc6c0de-debb-4923-a819-ee4000a1abd5",
   "metadata": {},
   "source": [
    "These methods are already provided in the BankAccount base class and inherited by SavingsAccount and CheckingAccount. Additionally, SavingsAccount has the add_interest method, and CheckingAccount overrides the withdraw method to account for the overdraft limit.\n",
    "\n"
   ]
  },
  {
   "cell_type": "markdown",
   "id": "3dcd1935-7d4d-47e0-8d1b-f218c62ae9ad",
   "metadata": {},
   "source": [
    "# 4. Test the banking system by creating instances of different account types and performing transactions."
   ]
  },
  {
   "cell_type": "code",
   "execution_count": 80,
   "id": "f0e8193d-228d-4d6e-a4ca-92c9efa02504",
   "metadata": {},
   "outputs": [
    {
     "name": "stdout",
     "output_type": "stream",
     "text": [
      "\n",
      "Savings Account Transactions:\n",
      "Deposited 200. New balance: 1200.0\n",
      "Withdrew 100. New balance: 1100.0\n",
      "Account balance: 1100.0\n",
      "Interest added: 55.0. New balance: 1155.0\n",
      "\n",
      "Checking Account Transactions:\n",
      "Deposited 300. New balance: 800.0\n",
      "Withdrew 700. New balance: 100.0\n",
      "Account balance: 100.0\n",
      "Withdrew 200. New balance: -100.0\n",
      "Account balance: -100.0\n"
     ]
    }
   ],
   "source": [
    "# Create instances of different account types\n",
    "savings = SavingsAccount(\"SA123\", balance=1000.0, interest_rate=0.05)\n",
    "checking = CheckingAccount(\"CA456\", balance=500.0, overdraft_limit=200.0)\n",
    "\n",
    "# Perform transactions on SavingsAccount\n",
    "print(\"\\nSavings Account Transactions:\")\n",
    "savings.deposit(200)\n",
    "savings.withdraw(100)\n",
    "savings.balance_inquiry()\n",
    "savings.add_interest()\n",
    "\n",
    "# Perform transactions on CheckingAccount\n",
    "print(\"\\nChecking Account Transactions:\")\n",
    "checking.deposit(300)\n",
    "checking.withdraw(700)  # within overdraft limit\n",
    "checking.balance_inquiry()\n",
    "checking.withdraw(200)  # exceeds overdraft limit\n",
    "checking.balance_inquiry()\n"
   ]
  },
  {
   "cell_type": "code",
   "execution_count": 81,
   "id": "e3910eba-d394-4bf3-bc61-e82756f52db3",
   "metadata": {},
   "outputs": [
    {
     "name": "stdout",
     "output_type": "stream",
     "text": [
      "\n",
      "Savings Account Transactions:\n",
      "Deposited 200. New balance: 1200.0\n",
      "Withdrew 100. New balance: 1100.0\n",
      "Account balance: 1100.0\n",
      "Interest added: 55.0. New balance: 1155.0\n",
      "\n",
      "Checking Account Transactions:\n",
      "Deposited 300. New balance: 800.0\n",
      "Withdrew 700. New balance: 100.0\n",
      "Account balance: 100.0\n",
      "Withdrew 200. New balance: -100.0\n",
      "Account balance: -100.0\n"
     ]
    }
   ],
   "source": [
    "class BankAccount:\n",
    "    def __init__(self, account_number, balance=0.0):\n",
    "        self._account_number = account_number\n",
    "        self._balance = balance\n",
    "\n",
    "    # Method to deposit money\n",
    "    def deposit(self, amount):\n",
    "        if amount > 0:\n",
    "            self._balance += amount\n",
    "            print(f\"Deposited {amount}. New balance: {self._balance}\")\n",
    "        else:\n",
    "            print(\"Deposit amount must be positive.\")\n",
    "\n",
    "    # Method to withdraw money\n",
    "    def withdraw(self, amount):\n",
    "        if amount > self._balance:\n",
    "            print(\"Insufficient funds!\")\n",
    "        elif amount <= 0:\n",
    "            print(\"Withdrawal amount must be positive.\")\n",
    "        else:\n",
    "            self._balance -= amount\n",
    "            print(f\"Withdrew {amount}. New balance: {self._balance}\")\n",
    "\n",
    "    # Method to inquire balance\n",
    "    def balance_inquiry(self):\n",
    "        print(f\"Account balance: {self._balance}\")\n",
    "\n",
    "    # Getter for account number\n",
    "    def get_account_number(self):\n",
    "        return self._account_number\n",
    "\n",
    "class SavingsAccount(BankAccount):\n",
    "    def __init__(self, account_number, balance=0.0, interest_rate=0.01):\n",
    "        super().__init__(account_number, balance)\n",
    "        self.interest_rate = interest_rate\n",
    "\n",
    "    # Method to add interest\n",
    "    def add_interest(self):\n",
    "        interest = self._balance * self.interest_rate\n",
    "        self._balance += interest\n",
    "        print(f\"Interest added: {interest}. New balance: {self._balance}\")\n",
    "\n",
    "class CheckingAccount(BankAccount):\n",
    "    def __init__(self, account_number, balance=0.0, overdraft_limit=100.0):\n",
    "        super().__init__(account_number, balance)\n",
    "        self.overdraft_limit = overdraft_limit\n",
    "\n",
    "    # Override withdraw method to include overdraft limit\n",
    "    def withdraw(self, amount):\n",
    "        if amount > self._balance + self.overdraft_limit:\n",
    "            print(\"Overdraft limit exceeded!\")\n",
    "        elif amount <= 0:\n",
    "            print(\"Withdrawal amount must be positive.\")\n",
    "        else:\n",
    "            self._balance -= amount\n",
    "            print(f\"Withdrew {amount}. New balance: {self._balance}\")\n",
    "\n",
    "# Create instances of different account types\n",
    "savings = SavingsAccount(\"SA123\", balance=1000.0, interest_rate=0.05)\n",
    "checking = CheckingAccount(\"CA456\", balance=500.0, overdraft_limit=200.0)\n",
    "\n",
    "# Perform transactions on SavingsAccount\n",
    "print(\"\\nSavings Account Transactions:\")\n",
    "savings.deposit(200)\n",
    "savings.withdraw(100)\n",
    "savings.balance_inquiry()\n",
    "savings.add_interest()\n",
    "\n",
    "# Perform transactions on CheckingAccount\n",
    "print(\"\\nChecking Account Transactions:\")\n",
    "checking.deposit(300)\n",
    "checking.withdraw(700)  # within overdraft limit\n",
    "checking.balance_inquiry()\n",
    "checking.withdraw(200)  # exceeds overdraft limit\n",
    "checking.balance_inquiry()\n"
   ]
  },
  {
   "cell_type": "code",
   "execution_count": null,
   "id": "92c799ea-d468-42a8-b039-29b210c62158",
   "metadata": {},
   "outputs": [],
   "source": []
  },
  {
   "cell_type": "code",
   "execution_count": null,
   "id": "7534e694-f369-41c4-b630-21de91e02745",
   "metadata": {},
   "outputs": [],
   "source": []
  },
  {
   "cell_type": "markdown",
   "id": "81b3011e-1adc-45e4-b1ee-73b8ff5aec9e",
   "metadata": {},
   "source": [
    "# 5.Write a Python program that models different animals and their sounds. Design a base class called\n",
    "# `Animal` with a method `mae_sound()`. Create subclasses lie `Dog` and `Cat` that override the\n",
    "# `mae_sound()` method to produce appropriate sounds.\n",
    "\n"
   ]
  },
  {
   "cell_type": "code",
   "execution_count": null,
   "id": "1ed84dc4-76d2-4aa4-931d-4bb783dd994c",
   "metadata": {},
   "outputs": [],
   "source": []
  },
  {
   "cell_type": "markdown",
   "id": "0ae5fbf3-4520-43ab-a8c4-9a7cc500ce16",
   "metadata": {},
   "source": [
    "# Tasks"
   ]
  },
  {
   "cell_type": "code",
   "execution_count": null,
   "id": "a68f32f1-62bc-4f85-aaf2-caf09529a8ad",
   "metadata": {},
   "outputs": [],
   "source": []
  },
  {
   "cell_type": "raw",
   "id": "69cffefe-87ae-49e7-9d7b-b68cef4a6b0c",
   "metadata": {},
   "source": [
    "1. Define the `Animal` class with a method `make_sound()`\n",
    "2. Create subclasses `Dog` and `Cat` that override the `make_sound()` method\n",
    "3. Implement the sound generation logic for each subclass\n",
    "4. Test the program by creating instances of `Dog` and `Cat` and calling the `make_sound()` method."
   ]
  },
  {
   "cell_type": "code",
   "execution_count": 83,
   "id": "1480f5f7-403f-483d-8669-4703d67bdf88",
   "metadata": {},
   "outputs": [
    {
     "name": "stdout",
     "output_type": "stream",
     "text": [
      "Dog says: Woof!\n",
      "Cat says: Meow!\n"
     ]
    }
   ],
   "source": [
    "# Define the base class Animal\n",
    "class Animal:\n",
    "    def make_sound(self):\n",
    "        pass  # This will be overridden by subclasses\n",
    "\n",
    "# Define subclass Dog\n",
    "class Dog(Animal):\n",
    "    def make_sound(self):\n",
    "        return \"Woof!\"\n",
    "\n",
    "# Define subclass Cat\n",
    "class Cat(Animal):\n",
    "    def make_sound(self):\n",
    "        return \"Meow!\"\n",
    "\n",
    "# Test the program\n",
    "if __name__ == \"__main__\":\n",
    "    dog = Dog()\n",
    "    cat = Cat()\n",
    "    \n",
    "    print(\"Dog says:\", dog.make_sound())\n",
    "    print(\"Cat says:\", cat.make_sound())\n"
   ]
  },
  {
   "cell_type": "raw",
   "id": "b9e2929e-d088-4784-9039-3a993d23483e",
   "metadata": {},
   "source": [
    "Explanation:\n",
    "Animal class: This serves as the base class with a method make_sound() that is meant to be overridden by subclasses.\n",
    "\n",
    "Dog class: Inherits from Animal and overrides make_sound() to return \"Woof!\".\n",
    "\n",
    "Cat class: Also inherits from Animal and overrides make_sound() to return \"Meow!\".\n",
    "\n",
    "Testing: In the main section of the program, instances of Dog and Cat are created, and their make_sound() methods are called to demonstrate the polymorphic behavior where each subclass produces its respective sound.\n",
    "\n"
   ]
  },
  {
   "cell_type": "code",
   "execution_count": null,
   "id": "f6e2dada-b13c-4c90-a842-d830ccc9f337",
   "metadata": {},
   "outputs": [],
   "source": []
  },
  {
   "cell_type": "markdown",
   "id": "2735ed37-46a0-4487-888c-2aa39d691a7e",
   "metadata": {},
   "source": [
    "# 6.Write a code for Restaurant Management System Using OO4S3\n"
   ]
  },
  {
   "cell_type": "raw",
   "id": "2a632e5d-d4fa-4c62-aac6-a200e342996b",
   "metadata": {},
   "source": [
    ". Create a MenuItem 'lass that has attributes su'h as name, des'ription, pri'e, and 'ategory\n",
    ".Implement methods to add a new menu item, update menu item information, and remove a menu item\n",
    "from the menu\n",
    ". Use en'apsulation to hide the menu item's unique identifi'ation number\n",
    ". Inherit from the MenuItem 'lass to 'reate a FoodItem 'lass and a BeverageItem 'lass, ea'h with their own\n",
    "spe'ifi' attributes and methods."
   ]
  },
  {
   "cell_type": "code",
   "execution_count": 85,
   "id": "b20ea8ed-a9e5-4cec-a466-0ca68b946d80",
   "metadata": {},
   "outputs": [
    {
     "name": "stdout",
     "output_type": "stream",
     "text": [
      "Added item: ID: e957df10-796b-4995-a188-fe29cfba8dfd, Name: Burger, Description: Beef burger, Price: 10.99, Category: Food, Vegan: False\n",
      "Added item: ID: cfd1c0f7-8317-4492-974c-54eb32f57d9b, Name: Cola, Description: Coca Cola, Price: 1.99, Category: Drink, Alcoholic: False\n",
      "Updated item: ID: e957df10-796b-4995-a188-fe29cfba8dfd, Name: Burger, Description: Beef burger, Price: 11.99, Category: Food, Vegan: False\n",
      "Removed item: ID: cfd1c0f7-8317-4492-974c-54eb32f57d9b, Name: Cola, Description: Coca Cola, Price: 1.99, Category: Drink, Alcoholic: False\n"
     ]
    }
   ],
   "source": [
    "import uuid\n",
    "\n",
    "class MenuItem:\n",
    "    def __init__(self, name, description, price, category):\n",
    "        self.__id = uuid.uuid4()\n",
    "        self.name = name\n",
    "        self.description = description\n",
    "        self.price = price\n",
    "        self.category = category\n",
    "\n",
    "    def get_id(self):\n",
    "        return self.__id\n",
    "\n",
    "    def update_info(self, name=None, description=None, price=None, category=None):\n",
    "        if name:\n",
    "            self.name = name\n",
    "        if description:\n",
    "            self.description = description\n",
    "        if price:\n",
    "            self.price = price\n",
    "        if category:\n",
    "            self.category = category\n",
    "\n",
    "    def __str__(self):\n",
    "        return f\"ID: {self.__id}, Name: {self.name}, Description: {self.description}, Price: {self.price}, Category: {self.category}\"\n",
    "\n",
    "class FoodItem(MenuItem):\n",
    "    def __init__(self, name, description, price, category, is_vegan):\n",
    "        super().__init__(name, description, price, category)\n",
    "        self.is_vegan = is_vegan\n",
    "\n",
    "    def __str__(self):\n",
    "        return f\"{super().__str__()}, Vegan: {self.is_vegan}\"\n",
    "\n",
    "class BeverageItem(MenuItem):\n",
    "    def __init__(self, name, description, price, category, is_alcoholic):\n",
    "        super().__init__(name, description, price, category)\n",
    "        self.is_alcoholic = is_alcoholic\n",
    "\n",
    "    def __str__(self):\n",
    "        return f\"{super().__str__()}, Alcoholic: {self.is_alcoholic}\"\n",
    "\n",
    "class Menu:\n",
    "    def __init__(self):\n",
    "        self.items = {}\n",
    "\n",
    "    def add_item(self, item):\n",
    "        self.items[item.get_id()] = item\n",
    "        print(f\"Added item: {item}\")\n",
    "\n",
    "    def remove_item(self, item_id):\n",
    "        if item_id in self.items:\n",
    "            print(f\"Removed item: {self.items[item_id]}\")\n",
    "            del self.items[item_id]\n",
    "\n",
    "    def update_item(self, item_id, **kwargs):\n",
    "        if item_id in self.items:\n",
    "            self.items[item_id].update_info(**kwargs)\n",
    "            print(f\"Updated item: {self.items[item_id]}\")\n",
    "\n",
    "# Example usage\n",
    "menu = Menu()\n",
    "food = FoodItem(\"Burger\", \"Beef burger\", 10.99, \"Food\", False)\n",
    "drink = BeverageItem(\"Cola\", \"Coca Cola\", 1.99, \"Drink\", False)\n",
    "\n",
    "menu.add_item(food)\n",
    "menu.add_item(drink)\n",
    "\n",
    "menu.update_item(food.get_id(), price=11.99)\n",
    "menu.remove_item(drink.get_id())\n"
   ]
  },
  {
   "cell_type": "markdown",
   "id": "c9ff2a21-b57f-43c4-ad04-d4ff69a31a19",
   "metadata": {},
   "source": [
    "# 7:Write a code for Hotel Management System using OO4S 3\n",
    ".Create a Room 'lass that has attributes su'h as room number, room type, rate, and availability (private)\n",
    ".Implement methods to book a room, 'he'k in a guest, and 'he'k out a guest\n",
    ".Use en'apsulation to hide the room's unique identifi'ation number\n",
    ". Inherit from the Room 'lass to 'reate a SuiteRoom 'lass and a StandardRoom 'lass, ea'h with their own\n",
    "spe'ifi' attributes and methods."
   ]
  },
  {
   "cell_type": "code",
   "execution_count": 86,
   "id": "bb15336e-a780-4e3f-8b13-400f4f79c676",
   "metadata": {},
   "outputs": [
    {
     "name": "stdout",
     "output_type": "stream",
     "text": [
      "Room 101 (Suite): $150/night, Available, with Jacuzzi\n",
      "Guest checked in.\n",
      "Guest checked out.\n",
      "Room 102 (Standard): $80/night, Available\n",
      "Room booked successfully.\n",
      "Room is already booked.\n",
      "Guest checked out.\n"
     ]
    }
   ],
   "source": [
    "class Room:\n",
    "    def __init__(self, number, room_type, rate):\n",
    "        self.__id = id(self)\n",
    "        self.number = number\n",
    "        self.room_type = room_type\n",
    "        self.rate = rate\n",
    "        self.__availability = True\n",
    "\n",
    "    def get_id(self):\n",
    "        return self.__id\n",
    "\n",
    "    def is_available(self):\n",
    "        return self.__availability\n",
    "\n",
    "    def book(self):\n",
    "        if self.__availability:\n",
    "            self.__availability = False\n",
    "            return \"Room booked successfully.\"\n",
    "        return \"Room is already booked.\"\n",
    "\n",
    "    def check_in(self):\n",
    "        if not self.__availability:\n",
    "            return \"Room is already booked.\"\n",
    "        self.__availability = False\n",
    "        return \"Guest checked in.\"\n",
    "\n",
    "    def check_out(self):\n",
    "        if self.__availability:\n",
    "            return \"Room is already available.\"\n",
    "        self.__availability = True\n",
    "        return \"Guest checked out.\"\n",
    "\n",
    "    def __str__(self):\n",
    "        availability = \"Available\" if self.__availability else \"Not available\"\n",
    "        return f\"Room {self.number} ({self.room_type}): ${self.rate}/night, {availability}\"\n",
    "\n",
    "class SuiteRoom(Room):\n",
    "    def __init__(self, number, rate, has_jacuzzi):\n",
    "        super().__init__(number, \"Suite\", rate)\n",
    "        self.has_jacuzzi = has_jacuzzi\n",
    "\n",
    "    def __str__(self):\n",
    "        jacuzzi = \"with Jacuzzi\" if self.has_jacuzzi else \"without Jacuzzi\"\n",
    "        return super().__str__() + f\", {jacuzzi}\"\n",
    "\n",
    "class StandardRoom(Room):\n",
    "    def __init__(self, number, rate):\n",
    "        super().__init__(number, \"Standard\", rate)\n",
    "\n",
    "# Example usage\n",
    "suite = SuiteRoom(101, 150, True)\n",
    "standard = StandardRoom(102, 80)\n",
    "\n",
    "print(suite)  # Print room details\n",
    "print(suite.check_in())  # Check in to suite\n",
    "print(suite.check_out())  # Check out from suite\n",
    "\n",
    "print(standard)  # Print room details\n",
    "print(standard.book())  # Book standard room\n",
    "print(standard.check_in())  # Try to check in to standard room (already booked)\n",
    "print(standard.check_out())  # Check out from standard room\n"
   ]
  },
  {
   "cell_type": "markdown",
   "id": "3fdcbded-1cf1-4b36-bbb9-5cf0f43dffd7",
   "metadata": {},
   "source": [
    "# 8.Write a code for Fitness Club Management System using OO4S3\n",
    ". Create a Member 'lass that has attributes su'h as name, age, membership type, and membership status\n",
    "(private)\n",
    ". Implement methods to register a new member, renew a membership, and 'an'el a membership\n",
    ". Use en'apsulation to hide the member's unique identifi'ation number\n",
    ". Inherit from the Member 'lass to 'reate a FamilyMember 'lass and an IndividualMember 'lass, ea'h with\n",
    "their own spe'ifi' attributes and methods"
   ]
  },
  {
   "cell_type": "code",
   "execution_count": 92,
   "id": "2c05160f-80ef-45b5-b20d-ca2872d3cc3a",
   "metadata": {},
   "outputs": [
    {
     "name": "stdout",
     "output_type": "stream",
     "text": [
      "FamilyMember Alice (ID: 4436456720, Age: 30, Type: Family, Status: Active, Discount: 10%)\n",
      "Member Bob (ID: 4436617808, Age: 25, Type: Individual, Status: Active)\n",
      "Active\n",
      "Cancelled\n",
      "Active\n",
      "Active\n"
     ]
    }
   ],
   "source": [
    "class Member:\n",
    "    def __init__(self, name, age, membership_type):\n",
    "        self.__id = id(self)\n",
    "        self.name = name\n",
    "        self.age = age\n",
    "        self.membership_type = membership_type\n",
    "        self.__status = \"Active\"\n",
    "\n",
    "    def get_id(self):\n",
    "        return self.__id\n",
    "\n",
    "    def renew_membership(self):\n",
    "        self.__status = \"Active\"\n",
    "\n",
    "    def cancel_membership(self):\n",
    "        self.__status = \"Cancelled\"\n",
    "\n",
    "    def get_status(self):\n",
    "        return self.__status\n",
    "\n",
    "    def __str__(self):\n",
    "        return f\"Member {self.name} (ID: {self.__id}, Age: {self.age}, Type: {self.membership_type}, Status: {self.__status})\"\n",
    "\n",
    "class FamilyMember(Member):\n",
    "    def __init__(self, name, age, membership_type, family_discount):\n",
    "        super().__init__(name, age, membership_type)\n",
    "        self.family_discount = family_discount\n",
    "\n",
    "    def __str__(self):\n",
    "        return f\"FamilyMember {self.name} (ID: {self.get_id()}, Age: {self.age}, Type: {self.membership_type}, Status: {self.get_status()}, Discount: {self.family_discount}%)\"\n",
    "\n",
    "class IndividualMember(Member):\n",
    "    def __init__(self, name, age, membership_type):\n",
    "        super().__init__(name, age, membership_type)\n",
    "\n",
    "# Example usage\n",
    "family_member = FamilyMember(\"Alice\", 30, \"Family\", 10)\n",
    "individual_member = IndividualMember(\"Bob\", 25, \"Individual\")\n",
    "\n",
    "print(family_member)  # Print family member details\n",
    "print(individual_member)  # Print individual member details\n",
    "\n",
    "print(family_member.get_status())  # Check status of family member\n",
    "family_member.cancel_membership()  # Cancel membership for family member\n",
    "print(family_member.get_status())  # Check status after cancellation\n",
    "\n",
    "print(individual_member.get_status())  # Check status of individual member\n",
    "individual_member.renew_membership()  # Renew membership for individual member\n",
    "print(individual_member.get_status())  # Check status after renewal\n"
   ]
  },
  {
   "cell_type": "markdown",
   "id": "b9b542e9-e63a-4807-b438-02bfd6621b86",
   "metadata": {},
   "source": [
    "# 9.Write a code for Event Management System using OO4S3\n",
    ".Create an Event 'lass that has attributes su'h as name, date, time, lo'ation, and list of attendees (private)\n",
    ". Implement methods to 'reate a new event, add or remove attendees, and get the total number of\n",
    "attendees\n",
    ". Use en'apsulation to hide the event's unique identifi'ation number\n",
    ". Inherit from the Event 'lass to 'reate a PrivateEvent 'lass and a Publi'Event 'lass, ea'h with their own\n",
    "spe'ifi' attributes and methods."
   ]
  },
  {
   "cell_type": "code",
   "execution_count": 93,
   "id": "8d3a2a54-dec1-4c21-ba2e-37dfab16ab43",
   "metadata": {},
   "outputs": [
    {
     "name": "stdout",
     "output_type": "stream",
     "text": [
      "PrivateEvent 'Birthday Party' on 2024-08-01 at 18:00, located at Home. Invited Only: True. Total Attendees: 2\n",
      "PublicEvent 'Concert' on 2024-08-15 at 20:00, located at Stadium. Ticket Price: $50. Total Attendees: 2\n",
      "PrivateEvent 'Birthday Party' on 2024-08-01 at 18:00, located at Home. Invited Only: True. Total Attendees: 1\n",
      "PublicEvent 'Concert' on 2024-08-15 at 20:00, located at Stadium. Ticket Price: $50. Total Attendees: 1\n"
     ]
    }
   ],
   "source": [
    "class Event:\n",
    "    def __init__(self, name, date, time, location):\n",
    "        self.__id = id(self)\n",
    "        self.name = name\n",
    "        self.date = date\n",
    "        self.time = time\n",
    "        self.location = location\n",
    "        self.__attendees = []\n",
    "\n",
    "    def get_id(self):\n",
    "        return self.__id\n",
    "\n",
    "    def add_attendee(self, attendee):\n",
    "        self.__attendees.append(attendee)\n",
    "\n",
    "    def remove_attendee(self, attendee):\n",
    "        if attendee in self.__attendees:\n",
    "            self.__attendees.remove(attendee)\n",
    "\n",
    "    def get_total_attendees(self):\n",
    "        return len(self.__attendees)\n",
    "\n",
    "    def __str__(self):\n",
    "        return f\"Event '{self.name}' on {self.date} at {self.time}, located at {self.location}. Total Attendees: {self.get_total_attendees()}\"\n",
    "\n",
    "class PrivateEvent(Event):\n",
    "    def __init__(self, name, date, time, location, invited_only):\n",
    "        super().__init__(name, date, time, location)\n",
    "        self.invited_only = invited_only\n",
    "\n",
    "    def __str__(self):\n",
    "        return f\"PrivateEvent '{self.name}' on {self.date} at {self.time}, located at {self.location}. Invited Only: {self.invited_only}. Total Attendees: {self.get_total_attendees()}\"\n",
    "\n",
    "class PublicEvent(Event):\n",
    "    def __init__(self, name, date, time, location, ticket_price):\n",
    "        super().__init__(name, date, time, location)\n",
    "        self.ticket_price = ticket_price\n",
    "\n",
    "    def __str__(self):\n",
    "        return f\"PublicEvent '{self.name}' on {self.date} at {self.time}, located at {self.location}. Ticket Price: ${self.ticket_price}. Total Attendees: {self.get_total_attendees()}\"\n",
    "\n",
    "# Example usage\n",
    "private_event = PrivateEvent(\"Birthday Party\", \"2024-08-01\", \"18:00\", \"Home\", True)\n",
    "public_event = PublicEvent(\"Concert\", \"2024-08-15\", \"20:00\", \"Stadium\", 50)\n",
    "\n",
    "private_event.add_attendee(\"John Doe\")\n",
    "private_event.add_attendee(\"Jane Doe\")\n",
    "public_event.add_attendee(\"Alice\")\n",
    "public_event.add_attendee(\"Bob\")\n",
    "\n",
    "print(private_event)\n",
    "print(public_event)\n",
    "\n",
    "private_event.remove_attendee(\"Jane Doe\")\n",
    "public_event.remove_attendee(\"Alice\")\n",
    "\n",
    "print(private_event)\n",
    "print(public_event)\n"
   ]
  },
  {
   "cell_type": "markdown",
   "id": "8ec9d3c3-f02b-4c47-bf15-7681a19b20de",
   "metadata": {},
   "source": [
    "# 10.Write a code for Airline Reservation System using OO4S3\n",
    ". Create a Flight 'lass that has attributes su'h as flight number, departure and arrival airports, departure and\n",
    "arrival times, and available seats (private)\n",
    ". Implement methods to book a seat, 'an'el a reservation, and get the remaining available seats\n",
    ". Use en'apsulation to hide the flight's unique identifi'ation number\n",
    ". Inherit from the Flight 'lass to 'reate a Domesti'Flight 'lass and an InternationalFlight 'lass, ea'h with their\n",
    "own spe'ifi' attributes and methods."
   ]
  },
  {
   "cell_type": "code",
   "execution_count": 94,
   "id": "b2f17a74-6c11-4a23-945e-045ba3480949",
   "metadata": {},
   "outputs": [
    {
     "name": "stdout",
     "output_type": "stream",
     "text": [
      "True\n",
      "179\n",
      "Flight DL123 from JFK to LAX. Departure: 12:00, Arrival: 15:00. Remaining seats: 179, Domestic Code: US123\n",
      "True\n",
      "299\n",
      "Flight IA456 from JFK to LHR. Departure: 18:00, Arrival: 06:00. Remaining seats: 299, Passport Required: True\n"
     ]
    }
   ],
   "source": [
    "class Flight:\n",
    "    def __init__(self, flight_number, departure_airport, arrival_airport, departure_time, arrival_time, seats):\n",
    "        self.__id = id(self)\n",
    "        self.flight_number = flight_number\n",
    "        self.departure_airport = departure_airport\n",
    "        self.arrival_airport = arrival_airport\n",
    "        self.departure_time = departure_time\n",
    "        self.arrival_time = arrival_time\n",
    "        self.__available_seats = seats\n",
    "\n",
    "    def get_id(self):\n",
    "        return self.__id\n",
    "\n",
    "    def book_seat(self):\n",
    "        if self.__available_seats > 0:\n",
    "            self.__available_seats -= 1\n",
    "            return True\n",
    "        return False\n",
    "\n",
    "    def cancel_reservation(self):\n",
    "        self.__available_seats += 1\n",
    "\n",
    "    def get_remaining_seats(self):\n",
    "        return self.__available_seats\n",
    "\n",
    "    def __str__(self):\n",
    "        return (f\"Flight {self.flight_number} from {self.departure_airport} to {self.arrival_airport}. \"\n",
    "                f\"Departure: {self.departure_time}, Arrival: {self.arrival_time}. \"\n",
    "                f\"Remaining seats: {self.__available_seats}\")\n",
    "\n",
    "class DomesticFlight(Flight):\n",
    "    def __init__(self, flight_number, departure_airport, arrival_airport, departure_time, arrival_time, seats, domestic_code):\n",
    "        super().__init__(flight_number, departure_airport, arrival_airport, departure_time, arrival_time, seats)\n",
    "        self.domestic_code = domestic_code\n",
    "\n",
    "    def __str__(self):\n",
    "        return super().__str__() + f\", Domestic Code: {self.domestic_code}\"\n",
    "\n",
    "class InternationalFlight(Flight):\n",
    "    def __init__(self, flight_number, departure_airport, arrival_airport, departure_time, arrival_time, seats, passport_required):\n",
    "        super().__init__(flight_number, departure_airport, arrival_airport, departure_time, arrival_time, seats)\n",
    "        self.passport_required = passport_required\n",
    "\n",
    "    def __str__(self):\n",
    "        return super().__str__() + f\", Passport Required: {self.passport_required}\"\n",
    "\n",
    "# Example usage\n",
    "domestic_flight = DomesticFlight(\"DL123\", \"JFK\", \"LAX\", \"12:00\", \"15:00\", 180, \"US123\")\n",
    "international_flight = InternationalFlight(\"IA456\", \"JFK\", \"LHR\", \"18:00\", \"06:00\", 300, True)\n",
    "\n",
    "print(domestic_flight.book_seat())  # Output: True\n",
    "print(domestic_flight.get_remaining_seats())  # Output: 179\n",
    "print(domestic_flight)  # Output: Flight DL123 from JFK to LAX. Departure: 12:00, Arrival: 15:00. Remaining seats: 179, Domestic Code: US123\n",
    "\n",
    "print(international_flight.book_seat())  # Output: True\n",
    "print(international_flight.get_remaining_seats())  # Output: 299\n",
    "print(international_flight)  # Output: Flight IA456 from JFK to LHR. Departure: 18:00, Arrival: 06:00. Remaining seats: 299, Passport Required: True\n"
   ]
  },
  {
   "cell_type": "code",
   "execution_count": null,
   "id": "70b4bd63-fedd-4594-a264-417e712061a3",
   "metadata": {},
   "outputs": [],
   "source": []
  },
  {
   "cell_type": "code",
   "execution_count": null,
   "id": "7d7efa4d-492d-4832-baec-5b0a4abfef2a",
   "metadata": {},
   "outputs": [],
   "source": []
  },
  {
   "cell_type": "markdown",
   "id": "ce3d4319-c7e4-47d7-9b29-dddc0e332cb6",
   "metadata": {},
   "source": [
    "# 11: Define a Python module named constants.py containing constants like pi and the speed of light."
   ]
  },
  {
   "cell_type": "code",
   "execution_count": 95,
   "id": "dc1cc79d-8da5-4806-ae50-fbef4da6dd37",
   "metadata": {},
   "outputs": [],
   "source": [
    "# constants.py\n",
    "\n",
    "PI = 3.141592653589793\n",
    "SPEED_OF_LIGHT = 299792458  # in meters per second\n"
   ]
  },
  {
   "cell_type": "markdown",
   "id": "5935f352-a735-466a-85ee-ee408aa04c34",
   "metadata": {},
   "source": [
    "# 12: Create a Python module named calculator.py containing functions for addition, subtraction, multiplication, and division"
   ]
  },
  {
   "cell_type": "code",
   "execution_count": 97,
   "id": "2cd6c22a-ed6f-48a8-afe3-05a8fdabb7c8",
   "metadata": {},
   "outputs": [],
   "source": [
    "# calculator.py\n",
    "\n",
    "def add(x, y):\n",
    "    \"\"\"Function to add two numbers\"\"\"\n",
    "    return x + y\n",
    "\n",
    "def subtract(x, y):\n",
    "    \"\"\"Function to subtract two numbers\"\"\"\n",
    "    return x - y\n",
    "\n",
    "def multiply(x, y):\n",
    "    \"\"\"Function to multiply two numbers\"\"\"\n",
    "    return x * y\n",
    "\n",
    "def divide(x, y):\n",
    "    \"\"\"Function to divide two numbers\"\"\"\n",
    "    if y == 0:\n",
    "        raise ValueError(\"Division by zero is undefined\")\n",
    "    return x / y\n"
   ]
  },
  {
   "cell_type": "raw",
   "id": "eec62e89-fa32-4e09-8824-a6e56d08aa0a",
   "metadata": {},
   "source": [
    "Save this code into a file named calculator.py. Each function (add, subtract, multiply, divide) takes two parameters (x and y) and performs the respective arithmetic operation.\n"
   ]
  },
  {
   "cell_type": "markdown",
   "id": "444283ae-90c9-49b2-a04c-bcf1725dfe3a",
   "metadata": {},
   "source": [
    "# 13. Implement a Python package structure for a project named ecommerce, containing modules for product\n",
    "management and order processing."
   ]
  },
  {
   "cell_type": "raw",
   "id": "b8e64a11-f49f-448c-b8d9-47d2b930fc64",
   "metadata": {},
   "source": [
    "ecommerce/\n",
    "    __init__.py\n",
    "    product_management.py\n",
    "\n",
    "# ecommerce/__init__.py\n",
    "\n",
    "# This file can be left empty or used for package initialization code\n",
    "\n"
   ]
  },
  {
   "cell_type": "code",
   "execution_count": 99,
   "id": "779f7e4f-e3ba-4cf4-b53b-cd21bba10a2c",
   "metadata": {},
   "outputs": [],
   "source": [
    "# ecommerce/product_management.py\n",
    "\n",
    "class Product:\n",
    "    def __init__(self, id, name, price, quantity):\n",
    "        self.id = id\n",
    "        self.name = name\n",
    "        self.price = price\n",
    "        self.quantity = quantity\n",
    "\n",
    "    def update_price(self, new_price):\n",
    "        self.price = new_price\n",
    "\n",
    "    def update_quantity(self, new_quantity):\n",
    "        self.quantity = new_quantity\n"
   ]
  },
  {
   "cell_type": "markdown",
   "id": "8324e1f8-da4c-41ed-8230-f72d32d7cbbd",
   "metadata": {},
   "source": [
    "# 14: Implement a Python module named string_utils.py containing functions for string manipulation, such as reversing and capitalizing strings."
   ]
  },
  {
   "cell_type": "code",
   "execution_count": 101,
   "id": "07468b58-49ae-4125-9227-d095fbae289c",
   "metadata": {},
   "outputs": [],
   "source": [
    "# string_utils.py\n",
    "\n",
    "def reverse_string(s):\n",
    "    \"\"\"Function to reverse a string\"\"\"\n",
    "    return s[::-1]\n",
    "\n",
    "def capitalize_string(s):\n",
    "    \"\"\"Function to capitalize the first letter of a string\"\"\"\n",
    "    return s.capitalize()\n",
    "\n",
    "def to_uppercase(s):\n",
    "    \"\"\"Function to convert a string to uppercase\"\"\"\n",
    "    return s.upper()\n",
    "\n",
    "def to_lowercase(s):\n",
    "    \"\"\"Function to convert a string to lowercase\"\"\"\n",
    "    return s.lower()\n",
    "\n",
    "# Example usage (uncomment to test)\n",
    "# if __name__ == \"__main__\":\n",
    "#     s = \"Hello, World!\"\n",
    "#     print(reverse_string(s))\n",
    "#     print(capitalize_string(s))\n",
    "#     print(to_uppercase(s))\n",
    "#     print(to_lowercase(s))\n"
   ]
  },
  {
   "cell_type": "code",
   "execution_count": 102,
   "id": "28e7036d-8571-4d73-9f0d-3696a9f3c6d5",
   "metadata": {},
   "outputs": [
    {
     "data": {
      "text/plain": [
       "'!dlroW ,olleH'"
      ]
     },
     "execution_count": 102,
     "metadata": {},
     "output_type": "execute_result"
    }
   ],
   "source": [
    ">>> reverse_string(\"Hello, World!\")\n",
    "'!dlroW ,olleH'\n"
   ]
  },
  {
   "cell_type": "markdown",
   "id": "351602ef-abe0-46ef-9fea-b8f1ac8b3c6d",
   "metadata": {},
   "source": [
    "# 15: Implement a Python module named file_operations.py with functions for reading, writing, and appending to files."
   ]
  },
  {
   "cell_type": "code",
   "execution_count": 103,
   "id": "8860c44e-52b1-47f0-8854-28e5b309a49e",
   "metadata": {},
   "outputs": [
    {
     "name": "stdout",
     "output_type": "stream",
     "text": [
      "Content written to example.txt.\n",
      "Read from example.txt:\n",
      "This is some example content.\n",
      "Appended to example.txt:\n",
      "\n",
      "This is additional content.\n",
      "Read from example.txt:\n",
      "This is some example content.\n",
      "This is additional content.\n"
     ]
    }
   ],
   "source": [
    "# file_operations.py\n",
    "\n",
    "def read_file(filename):\n",
    "    try:\n",
    "        with open(filename, 'r') as file:\n",
    "            content = file.read()\n",
    "            print(f\"Read from {filename}:\")\n",
    "            print(content)\n",
    "            return content\n",
    "    except FileNotFoundError:\n",
    "        print(f\"Error: File '{filename}' not found.\")\n",
    "        return None\n",
    "\n",
    "def write_file(filename, content):\n",
    "    try:\n",
    "        with open(filename, 'w') as file:\n",
    "            file.write(content)\n",
    "            print(f\"Content written to {filename}.\")\n",
    "    except IOError:\n",
    "        print(f\"Error writing to file '{filename}'.\")\n",
    "\n",
    "def append_file(filename, content):\n",
    "    try:\n",
    "        with open(filename, 'a') as file:\n",
    "            file.write(content)\n",
    "            print(f\"Appended to {filename}:\")\n",
    "            print(content)\n",
    "    except IOError:\n",
    "        print(f\"Error appending to file '{filename}'.\")\n",
    "\n",
    "# Example usage:\n",
    "if __name__ == \"__main__\":\n",
    "    filename = \"example.txt\"\n",
    "    content_to_write = \"This is some example content.\"\n",
    "\n",
    "    write_file(filename, content_to_write)\n",
    "    read_file(filename)\n",
    "\n",
    "    content_to_append = \"\\nThis is additional content.\"\n",
    "    append_file(filename, content_to_append)\n",
    "    read_file(filename)\n"
   ]
  },
  {
   "cell_type": "markdown",
   "id": "4ec93df2-d162-494b-8dcf-501023d91a71",
   "metadata": {},
   "source": [
    "# 16: Write a Python script named employees.py that reads employee details from a file and writes the details to another file.\n",
    "python\n"
   ]
  },
  {
   "cell_type": "code",
   "execution_count": 104,
   "id": "87f13138-0900-42dd-966b-56f64c951de8",
   "metadata": {},
   "outputs": [
    {
     "name": "stdout",
     "output_type": "stream",
     "text": [
      "Error: File 'input_employees.txt' not found.\n",
      "Successfully wrote employees to 'output_employees.txt'.\n"
     ]
    }
   ],
   "source": [
    "# employees.py\n",
    "\n",
    "def read_employees(input_file):\n",
    "    employees = []\n",
    "    try:\n",
    "        with open(input_file, 'r') as file:\n",
    "            for line in file:\n",
    "                employees.append(line.strip())\n",
    "        print(f\"Read employees from '{input_file}':\")\n",
    "        print(employees)\n",
    "        return employees\n",
    "    except FileNotFoundError:\n",
    "        print(f\"Error: File '{input_file}' not found.\")\n",
    "        return []\n",
    "\n",
    "def write_employees(output_file, employees):\n",
    "    try:\n",
    "        with open(output_file, 'w') as file:\n",
    "            for employee in employees:\n",
    "                file.write(employee + '\\n')\n",
    "        print(f\"Successfully wrote employees to '{output_file}'.\")\n",
    "    except IOError:\n",
    "        print(f\"Error writing to file '{output_file}'.\")\n",
    "\n",
    "# Example usage\n",
    "if __name__ == \"__main__\":\n",
    "    input_file = 'input_employees.txt'\n",
    "    output_file = 'output_employees.txt'\n",
    "\n",
    "    employees = read_employees(input_file)\n",
    "    write_employees(output_file, employees)\n"
   ]
  },
  {
   "cell_type": "markdown",
   "id": "cec351df-6cb9-4cb0-8666-a2275cfaa502",
   "metadata": {},
   "source": [
    "# 18: Create a Python script that reads a text file named expenses.txt and calculates the total amount spent on various expenses listed in the file."
   ]
  },
  {
   "cell_type": "code",
   "execution_count": 105,
   "id": "adeccc18-72a4-4164-b856-e0dbd051c767",
   "metadata": {},
   "outputs": [
    {
     "name": "stdout",
     "output_type": "stream",
     "text": [
      "Error: File 'expenses.txt' not found.\n",
      "Total expenses: 0\n"
     ]
    }
   ],
   "source": [
    "# calculate_expenses.py\n",
    "\n",
    "def calculate_total_expenses(file_name):\n",
    "    total = 0\n",
    "    try:\n",
    "        with open(file_name, 'r') as file:\n",
    "            for line in file:\n",
    "                total += float(line.strip())\n",
    "        return total\n",
    "    except FileNotFoundError:\n",
    "        print(f\"Error: File '{file_name}' not found.\")\n",
    "        return 0\n",
    "    except ValueError:\n",
    "        print(f\"Error: Non-numeric data found in '{file_name}'.\")\n",
    "        return 0\n",
    "\n",
    "# Example usage\n",
    "if __name__ == \"__main__\":\n",
    "    file_name = 'expenses.txt'\n",
    "\n",
    "    total_expenses = calculate_total_expenses(file_name)\n",
    "    print(f\"Total expenses: {total_expenses}\")\n"
   ]
  },
  {
   "cell_type": "markdown",
   "id": "2dc5f2c8-bdc4-4d83-beeb-c835168abaea",
   "metadata": {},
   "source": [
    "# 19: Create a Python program that reads a text file named paragraph.txt and counts the occurrences of each word in the paragraph, displaying the results in alphabetical order."
   ]
  },
  {
   "cell_type": "code",
   "execution_count": 106,
   "id": "2a68c1d7-7965-4261-8415-9e3c3428647a",
   "metadata": {},
   "outputs": [
    {
     "name": "stdout",
     "output_type": "stream",
     "text": [
      "Error: File 'paragraph.txt' not found.\n"
     ]
    }
   ],
   "source": [
    "# word_count.py\n",
    "\n",
    "def word_count(file_name):\n",
    "    try:\n",
    "        with open(file_name, 'r') as file:\n",
    "            text = file.read()\n",
    "\n",
    "        words = text.split()\n",
    "        word_dict = {}\n",
    "        for word in words:\n",
    "            word = word.lower().strip('.,!?')\n",
    "            if word:\n",
    "                if word in word_dict:\n",
    "                    word_dict[word] += 1\n",
    "                else:\n",
    "                    word_dict[word] = 1\n",
    "\n",
    "        for word in sorted(word_dict.keys()):\n",
    "            print(f\"{word}: {word_dict[word]}\")\n",
    "\n",
    "    except FileNotFoundError:\n",
    "        print(f\"Error: File '{file_name}' not found.\")\n",
    "\n",
    "# Example usage\n",
    "if __name__ == \"__main__\":\n",
    "    word_count('paragraph.txt')\n"
   ]
  },
  {
   "cell_type": "markdown",
   "id": "3b86091e-f53a-4d83-9c1d-35cf8f924a4a",
   "metadata": {},
   "source": [
    "# 20. What do you mean by Measure of Central Tendency and Measures of Dispersion .How it can be\n",
    "calculated."
   ]
  },
  {
   "cell_type": "raw",
   "id": "c230ef35-bfba-41ac-90ac-91f53d0d33ef",
   "metadata": {},
   "source": [
    "Measures of Central Tendency:\n",
    "\n",
    "Mean: The average of a data set.\n",
    "Median: The middle value when the data set is ordered.\n",
    "Mode: The value that appears most frequently in the data set.\n",
    "Measures of Dispersion:\n",
    "\n",
    "Range: The difference between the maximum and minimum values.\n",
    "Variance: The average of the squared differences from the mean.\n",
    "Standard Deviation: The square root of the variance.\n",
    "Interquartile Range (IQR): The difference between the 75th and 25th percentiles.\n"
   ]
  },
  {
   "cell_type": "markdown",
   "id": "9af747e6-11ba-46af-9bb9-a29a24f03efb",
   "metadata": {},
   "source": [
    "# 21. What do you mean by skewness.Explain its types.Use graph to show."
   ]
  },
  {
   "cell_type": "raw",
   "id": "75ae87ac-142a-4381-9e7c-9e50e8967ac3",
   "metadata": {},
   "source": [
    "Skewness is a measure of the asymmetry of the probability distribution of a real-valued random variable.\n",
    "\n",
    "Types of Skewness:\n",
    "\n",
    "Positive Skewness (Right Skewed): The right tail is longer or fatter than the left. Most data points are on the left.\n",
    "Negative Skewness (Left Skewed): The left tail is longer or fatter than the right. Most data points are on the right.\n"
   ]
  },
  {
   "cell_type": "code",
   "execution_count": 108,
   "id": "3852abf2-161e-4338-bf84-bf590797e4bf",
   "metadata": {},
   "outputs": [
    {
     "data": {
      "image/png": "[encoded data removed]",
      "text/plain": [
       "<Figure size 640x480 with 1 Axes>"
      ]
     },
     "metadata": {},
     "output_type": "display_data"
    },
    {
     "data": {
      "image/png": "[encoded data removed]",
      "text/plain": [
       "<Figure size 640x480 with 1 Axes>"
      ]
     },
     "metadata": {},
     "output_type": "display_data"
    }
   ],
   "source": [
    "import matplotlib.pyplot as plt\n",
    "import numpy as np\n",
    "\n",
    "# Generate data for skewness\n",
    "data_right_skew = np.random.exponential(scale=2, size=1000)\n",
    "data_left_skew = -np.random.exponential(scale=2, size=1000)\n",
    "\n",
    "# Plot right skewed data\n",
    "plt.hist(data_right_skew, bins=30, color='blue', alpha=0.7, label='Right Skewed')\n",
    "plt.legend()\n",
    "plt.show()\n",
    "\n",
    "# Plot left skewed data\n",
    "plt.hist(data_left_skew, bins=30, color='red', alpha=0.7, label='Left Skewed')\n",
    "plt.legend()\n",
    "plt.show()\n"
   ]
  },
  {
   "cell_type": "markdown",
   "id": "1b120a46-192c-463c-87ff-86f96550f041",
   "metadata": {},
   "source": [
    "# 22. Explain PROBABILITY MASS FUNCTION (PMF) and PROBABILITY DENSITY FUNCTION (PDF). and what is the\n",
    "difference between them?"
   ]
  },
  {
   "cell_type": "raw",
   "id": "0d1e9e8e-08ca-44de-8754-6045cf9c7aa8",
   "metadata": {},
   "source": [
    "PMF:\n",
    "\n",
    "Used for discrete random variables.\n",
    "Gives the probability that a discrete random variable is exactly equal to some value.\n",
    "Example: Probability of getting a specific number on a dice roll.\n",
    "\n",
    "\n",
    "PDF:\n",
    "\n",
    "Used for continuous random variables.\n",
    "Describes the likelihood of a random variable to take on a particular value.\n",
    "Example: Probability of a person’s height falling within a specific range.\n"
   ]
  },
  {
   "cell_type": "markdown",
   "id": "7293660c-451a-4df3-bf1d-b5c4f13e5263",
   "metadata": {},
   "source": [
    "# 23. What is correlation. Explain its type in details.what are the methods of determining correlation"
   ]
  },
  {
   "cell_type": "raw",
   "id": "edec90ae-3eb1-4e88-8fe9-b3663ac08d1e",
   "metadata": {},
   "source": [
    "Correlation is a statistical measure that expresses the extent to which two variables are linearly related.\n",
    "\n",
    "Types of Correlation:\n",
    "\n",
    "Positive Correlation: Both variables move in the same direction.\n",
    "Negative Correlation: One variable increases as the other decreases.\n",
    "No Correlation: No linear relationship between the variables.\n",
    "Methods of Determining Correlation:\n",
    "\n",
    "Pearson Correlation Coefficient: Measures linear correlation between two variables. Value ranges from -1 to 1.\n",
    "Spearman’s Rank Correlation: Measures the rank-order correlation between two variables.\n",
    "Kendall’s Tau Correlation: Measures the ordinal association between two measured quantities.\n"
   ]
  },
  {
   "cell_type": "markdown",
   "id": "ffeab424-72d2-4b16-9274-9805e5d299fe",
   "metadata": {},
   "source": [
    "# 25. Discuss the 4 differences between correlation and regression."
   ]
  },
  {
   "cell_type": "raw",
   "id": "65f27ae1-a7b3-4387-bd73-5f2bb9f815da",
   "metadata": {},
   "source": [
    "Purpose:\n",
    "\n",
    "Correlation: Measures the strength and direction of the linear relationship between two variables.\n",
    "Regression: Predicts the value of one variable based on the value of another, establishing a causal relationship.\n",
    "Directionality:\n",
    "\n",
    "Correlation: Concerned with describing the relationship between variables without implying causation.\n",
    "Regression: Involves predicting the dependent variable (Y) based on the independent variable (X).\n",
    "Output:\n",
    "\n",
    "Correlation: Outputs a correlation coefficient, typically ranging from -1 to +1.\n",
    "Regression: Outputs regression coefficients (slope and intercept) that define the equation of the regression line.\n",
    "Application:\n",
    "\n",
    "Correlation: Used to summarize and describe the relationship between variables.\n",
    "Regression: Used for prediction, understanding the impact of variables on each other, and establishing relationships."
   ]
  },
  {
   "cell_type": "markdown",
   "id": "08004d60-83ff-49f3-9d4e-16ded0f3c221",
   "metadata": {},
   "source": [
    "# 27: In a partially destroyed laboratory record of an analysis of correlation data, the following results are legible\n"
   ]
  },
  {
   "cell_type": "markdown",
   "id": "d10e3aa1-2d2f-4531-aa82-d113f89196b5",
   "metadata": {},
   "source": [
    "\n",
    "\n",
    "Variance of X (\n",
    "𝜎\n",
    "𝑋\n",
    "2\n",
    "σ \n",
    "X\n",
    "2\n",
    "​\n",
    " ) = 9\n",
    "Regression equations:\n",
    "8\n",
    "𝑥\n",
    "−\n",
    "10\n",
    "𝑦\n",
    "=\n",
    "−\n",
    "66\n",
    "8x−10y=−66\n",
    "40\n",
    "𝑥\n",
    "−\n",
    "18\n",
    "𝑦\n",
    "=\n",
    "214\n",
    "40x−18y=214\n",
    "(a) Mean values of X and Y:\n",
    "\n",
    "The mean of X (\n",
    "𝑋\n",
    "ˉ\n",
    "X\n",
    "ˉ\n",
    " ) can be calculated from the variance: \n",
    "𝑋\n",
    "ˉ\n",
    "=\n",
    "0\n",
    "X\n",
    "ˉ\n",
    " =0 (assuming centered data).\n",
    "Solve for Y using the regression equations to find \n",
    "𝑌\n",
    "ˉ\n",
    "Y\n",
    "ˉ\n",
    " .\n",
    "(b) Coefficient of correlation (\n",
    "𝑟\n",
    "r):\n",
    "\n",
    "Calculate \n",
    "𝑟\n",
    "=\n",
    "cov\n",
    "(\n",
    "𝑋\n",
    ",\n",
    "𝑌\n",
    ")\n",
    "𝜎\n",
    "𝑋\n",
    "𝜎\n",
    "𝑌\n",
    "r= \n",
    "σ \n",
    "X\n",
    "​\n",
    " σ \n",
    "Y\n",
    "​\n",
    " \n",
    "cov(X,Y)\n",
    "​\n",
    " .\n",
    "Use the regression equations to find \n",
    "cov\n",
    "(\n",
    "𝑋\n",
    ",\n",
    "𝑌\n",
    ")\n",
    "cov(X,Y).\n",
    "(c) Standard deviation (\n",
    "𝜎\n",
    "𝑌\n",
    "σ \n",
    "Y\n",
    "​\n",
    " ) of Y:\n",
    "\n",
    "Calculate \n",
    "𝜎\n",
    "𝑌\n",
    "=\n",
    "Var\n",
    "(\n",
    "𝑌\n",
    ")\n",
    "σ \n",
    "Y\n",
    "​\n",
    " = \n",
    "Var(Y)\n",
    "​\n",
    " .\n",
    "\n",
    "\n",
    "\n",
    "\n",
    "\n",
    "\n",
    "\n",
    "\n",
    "\n",
    "\n",
    "\n",
    "\n",
    "\n",
    "\n",
    "\n",
    "\n",
    "\n"
   ]
  },
  {
   "cell_type": "markdown",
   "id": "bf97e204-7825-4689-8ab6-71472ec26744",
   "metadata": {},
   "source": [
    "# 28: What is Normal Distribution? What are the four Assumptions of Normal Distribution? Explain in detail.\n"
   ]
  },
  {
   "cell_type": "raw",
   "id": "8398ebd5-d70f-4f9f-826b-a31104b00563",
   "metadata": {},
   "source": [
    "Normal Distribution:\n",
    "\n",
    "A continuous probability distribution characterized by a bell-shaped curve symmetrical around the mean (\n",
    "𝜇\n",
    "μ).\n",
    "It is defined by its mean and standard deviation (\n",
    "𝜎\n",
    "σ).\n",
    "Assumptions of Normal Distribution:\n",
    "\n",
    "Symmetry: The distribution is symmetric around the mean.\n",
    "Unimodal: It has a single peak at the mean.\n",
    "Bell-shaped: The distribution follows a specific pattern where most values cluster around the mean, tapering off symmetrically in both directions.\n",
    "Standardized Parameters: The mean and standard deviation fully describe the shape of the distributio"
   ]
  },
  {
   "cell_type": "markdown",
   "id": "0338aca3-bb5b-4b1d-bb9f-85ca48f3ab58",
   "metadata": {},
   "source": [
    "# 29: Write all the characteristics or Properties of the Normal Distribution Curve."
   ]
  },
  {
   "cell_type": "raw",
   "id": "cfeaadb7-eab3-4b87-a0b4-5c572a77acb9",
   "metadata": {},
   "source": [
    ". Symmetry: The curve is symmetric around the mean (\n",
    "𝜇\n",
    "μ).\n",
    "\n",
    ".Unimodal: It has a single peak at the mean.\n",
    "\n",
    ".Bell-shaped: It has a bell-shaped curve where most values are close to the mean.\n",
    "\n",
    ".Total Area Under the Curve: The total area under the curve is equal to 1.\n",
    "\n",
    ".Parameters: Fully described by its mean (\n",
    "𝜇\n",
    "μ) and standard deviation (\n",
    "𝜎\n",
    "σ).\n",
    "\n",
    ".Tail Asymptote: The tails of the curve approach but never touch the x-axis.\n"
   ]
  },
  {
   "cell_type": "markdown",
   "id": "dbc73e58-4945-4b23-b71a-7411fc090a94",
   "metadata": {},
   "source": [
    "# 32: 15000 students sat for an examination. The mean marks were 49 with a standard deviation of 6. Assuming that the marks were normally distributed, what proportion of students scored:\n",
    "("
   ]
  },
  {
   "cell_type": "markdown",
   "id": "f1d1c966-69ba-4bf8-bf53-a87914a345e6",
   "metadata": {},
   "source": [
    "(a) More than 55 marks:\n",
    "\n",
    "Convert 55 to z-score: \n",
    "𝑧\n",
    "=\n",
    "55\n",
    "−\n",
    "49\n",
    "6\n",
    "=\n",
    "1\n",
    "z= \n",
    "6\n",
    "55−49\n",
    "​\n",
    " =1\n",
    "Use z-table: Area from -∞ to 1 = 0.8413\n",
    "Percentage = 1 - 0.8413 = 0.1587 or 15.87%\n",
    "(b) More than 70 marks:\n",
    "\n",
    "Convert 70 to z-score: \n",
    "𝑧\n",
    "=\n",
    "70\n",
    "−\n",
    "49\n",
    "6\n",
    "=\n",
    "3.5\n",
    "z= \n",
    "6\n",
    "70−49\n",
    "​\n",
    " =3.5\n",
    "Use z-table: Area from -∞ to 3.5 = 0.9998\n",
    "Percentage = 1 - 0.9998 = 0.0002 or 0.02%\n"
   ]
  },
  {
   "cell_type": "markdown",
   "id": "78d73deb-b826-4e06-a455-2ffc98e19e60",
   "metadata": {},
   "source": [
    "# 39: How would you create a basic Flask route that displays \"Hello, World!\" on the homepage?"
   ]
  },
  {
   "cell_type": "code",
   "execution_count": 112,
   "id": "7a0414d1-f4ab-485a-880b-b706f8b65033",
   "metadata": {},
   "outputs": [
    {
     "name": "stdout",
     "output_type": "stream",
     "text": [
      " * Serving Flask app '__main__'\n",
      " * Debug mode: on\n"
     ]
    },
    {
     "name": "stderr",
     "output_type": "stream",
     "text": [
      "WARNING: This is a development server. Do not use it in a production deployment. Use a production WSGI server instead.\n",
      " * Running on http://127.0.0.1:5000\n",
      "Press CTRL+C to quit\n",
      " * Restarting with stat\n",
      "0.00s - Debugger warning: It seems that frozen modules are being used, which may\n",
      "0.00s - make the debugger miss breakpoints. Please pass -Xfrozen_modules=off\n",
      "0.00s - to python to disable frozen modules.\n",
      "0.00s - Note: Debugging will proceed. Set PYDEVD_DISABLE_FILE_VALIDATION=1 to disable this validation.\n",
      "Traceback (most recent call last):\n",
      "  File \"<frozen runpy>\", line 198, in _run_module_as_main\n",
      "  File \"<frozen runpy>\", line 88, in _run_code\n",
      "  File \"/Users/mohammadshahanshaah/anaconda3/lib/python3.11/site-packages/ipykernel_launcher.py\", line 17, in <module>\n",
      "    app.launch_new_instance()\n",
      "  File \"/Users/mohammadshahanshaah/anaconda3/lib/python3.11/site-packages/traitlets/config/application.py\", line 991, in launch_instance\n",
      "    app.initialize(argv)\n",
      "  File \"/Users/mohammadshahanshaah/anaconda3/lib/python3.11/site-packages/traitlets/config/application.py\", line 113, in inner\n",
      "    return method(app, *args, **kwargs)\n",
      "           ^^^^^^^^^^^^^^^^^^^^^^^^^^^^\n",
      "  File \"/Users/mohammadshahanshaah/anaconda3/lib/python3.11/site-packages/ipykernel/kernelapp.py\", line 654, in initialize\n",
      "    self.init_sockets()\n",
      "  File \"/Users/mohammadshahanshaah/anaconda3/lib/python3.11/site-packages/ipykernel/kernelapp.py\", line 331, in init_sockets\n",
      "    self.shell_port = self._bind_socket(self.shell_socket, self.shell_port)\n",
      "                      ^^^^^^^^^^^^^^^^^^^^^^^^^^^^^^^^^^^^^^^^^^^^^^^^^^^^^\n",
      "  File \"/Users/mohammadshahanshaah/anaconda3/lib/python3.11/site-packages/ipykernel/kernelapp.py\", line 253, in _bind_socket\n",
      "    return self._try_bind_socket(s, port)\n",
      "           ^^^^^^^^^^^^^^^^^^^^^^^^^^^^^^\n",
      "  File \"/Users/mohammadshahanshaah/anaconda3/lib/python3.11/site-packages/ipykernel/kernelapp.py\", line 229, in _try_bind_socket\n",
      "    s.bind(\"tcp://%s:%i\" % (self.ip, port))\n",
      "  File \"/Users/mohammadshahanshaah/anaconda3/lib/python3.11/site-packages/zmq/sugar/socket.py\", line 302, in bind\n",
      "    super().bind(addr)\n",
      "  File \"zmq/backend/cython/socket.pyx\", line 564, in zmq.backend.cython.socket.Socket.bind\n",
      "  File \"zmq/backend/cython/checkrc.pxd\", line 28, in zmq.backend.cython.checkrc._check_rc\n",
      "zmq.error.ZMQError: Address already in use (addr='tcp://127.0.0.1:52067')\n"
     ]
    },
    {
     "ename": "SystemExit",
     "evalue": "1",
     "output_type": "error",
     "traceback": [
      "An exception has occurred, use %tb to see the full traceback.\n",
      "\u001b[0;31mSystemExit\u001b[0m\u001b[0;31m:\u001b[0m 1\n"
     ]
    },
    {
     "name": "stderr",
     "output_type": "stream",
     "text": [
      "/Users/mohammadshahanshaah/anaconda3/lib/python3.11/site-packages/IPython/core/interactiveshell.py:3561: UserWarning: To exit: use 'exit', 'quit', or Ctrl-D.\n",
      "  warn(\"To exit: use 'exit', 'quit', or Ctrl-D.\", stacklevel=1)\n"
     ]
    }
   ],
   "source": [
    "from flask import Flask\n",
    "\n",
    "app = Flask(__name__)\n",
    "\n",
    "@app.route('/')\n",
    "def hello_world():\n",
    "    return 'Hello, World!'\n",
    "\n",
    "if __name__ == '__main__':\n",
    "    app.run(debug=True)\n"
   ]
  },
  {
   "cell_type": "markdown",
   "id": "4ce932de-aeca-4571-9aa6-0da00227f955",
   "metadata": {},
   "source": [
    "# 40: Explain how to set up a Flask application to handle form submissions using POST requests.\n"
   ]
  },
  {
   "cell_type": "code",
   "execution_count": 113,
   "id": "40f2aa54-162f-4049-8399-a8fa92dbfc81",
   "metadata": {},
   "outputs": [
    {
     "name": "stdout",
     "output_type": "stream",
     "text": [
      " * Serving Flask app '__main__'\n",
      " * Debug mode: on\n"
     ]
    },
    {
     "name": "stderr",
     "output_type": "stream",
     "text": [
      "WARNING: This is a development server. Do not use it in a production deployment. Use a production WSGI server instead.\n",
      " * Running on http://127.0.0.1:5000\n",
      "Press CTRL+C to quit\n",
      " * Restarting with stat\n",
      "0.00s - Debugger warning: It seems that frozen modules are being used, which may\n",
      "0.00s - make the debugger miss breakpoints. Please pass -Xfrozen_modules=off\n",
      "0.00s - to python to disable frozen modules.\n",
      "0.00s - Note: Debugging will proceed. Set PYDEVD_DISABLE_FILE_VALIDATION=1 to disable this validation.\n",
      "Traceback (most recent call last):\n",
      "  File \"<frozen runpy>\", line 198, in _run_module_as_main\n",
      "  File \"<frozen runpy>\", line 88, in _run_code\n",
      "  File \"/Users/mohammadshahanshaah/anaconda3/lib/python3.11/site-packages/ipykernel_launcher.py\", line 17, in <module>\n",
      "    app.launch_new_instance()\n",
      "  File \"/Users/mohammadshahanshaah/anaconda3/lib/python3.11/site-packages/traitlets/config/application.py\", line 991, in launch_instance\n",
      "    app.initialize(argv)\n",
      "  File \"/Users/mohammadshahanshaah/anaconda3/lib/python3.11/site-packages/traitlets/config/application.py\", line 113, in inner\n",
      "    return method(app, *args, **kwargs)\n",
      "           ^^^^^^^^^^^^^^^^^^^^^^^^^^^^\n",
      "  File \"/Users/mohammadshahanshaah/anaconda3/lib/python3.11/site-packages/ipykernel/kernelapp.py\", line 654, in initialize\n",
      "    self.init_sockets()\n",
      "  File \"/Users/mohammadshahanshaah/anaconda3/lib/python3.11/site-packages/ipykernel/kernelapp.py\", line 331, in init_sockets\n",
      "    self.shell_port = self._bind_socket(self.shell_socket, self.shell_port)\n",
      "                      ^^^^^^^^^^^^^^^^^^^^^^^^^^^^^^^^^^^^^^^^^^^^^^^^^^^^^\n",
      "  File \"/Users/mohammadshahanshaah/anaconda3/lib/python3.11/site-packages/ipykernel/kernelapp.py\", line 253, in _bind_socket\n",
      "    return self._try_bind_socket(s, port)\n",
      "           ^^^^^^^^^^^^^^^^^^^^^^^^^^^^^^\n",
      "  File \"/Users/mohammadshahanshaah/anaconda3/lib/python3.11/site-packages/ipykernel/kernelapp.py\", line 229, in _try_bind_socket\n",
      "    s.bind(\"tcp://%s:%i\" % (self.ip, port))\n",
      "  File \"/Users/mohammadshahanshaah/anaconda3/lib/python3.11/site-packages/zmq/sugar/socket.py\", line 302, in bind\n",
      "    super().bind(addr)\n",
      "  File \"zmq/backend/cython/socket.pyx\", line 564, in zmq.backend.cython.socket.Socket.bind\n",
      "  File \"zmq/backend/cython/checkrc.pxd\", line 28, in zmq.backend.cython.checkrc._check_rc\n",
      "zmq.error.ZMQError: Address already in use (addr='tcp://127.0.0.1:52067')\n"
     ]
    },
    {
     "ename": "SystemExit",
     "evalue": "1",
     "output_type": "error",
     "traceback": [
      "An exception has occurred, use %tb to see the full traceback.\n",
      "\u001b[0;31mSystemExit\u001b[0m\u001b[0;31m:\u001b[0m 1\n"
     ]
    }
   ],
   "source": [
    "from flask import Flask, request, render_template\n",
    "\n",
    "app = Flask(__name__)\n",
    "\n",
    "@app.route('/form', methods=['GET', 'POST'])\n",
    "def form():\n",
    "    if request.method == 'POST':\n",
    "        name = request.form['name']\n",
    "        return f'Hello, {name}!'\n",
    "    return render_template('form.html')\n",
    "\n",
    "if __name__ == '__main__':\n",
    "    app.run(debug=True)\n"
   ]
  },
  {
   "cell_type": "markdown",
   "id": "62219ee2-0563-46fc-85f7-5beafc0cf05a",
   "metadata": {},
   "source": [
    "# 41: Write a Flask route that accepts a parameter in the URL and displays it on the page"
   ]
  },
  {
   "cell_type": "code",
   "execution_count": 114,
   "id": "194d3bbd-14df-41f4-9dbd-c58a886a56be",
   "metadata": {},
   "outputs": [
    {
     "name": "stdout",
     "output_type": "stream",
     "text": [
      " * Serving Flask app '__main__'\n",
      " * Debug mode: on\n"
     ]
    },
    {
     "name": "stderr",
     "output_type": "stream",
     "text": [
      "WARNING: This is a development server. Do not use it in a production deployment. Use a production WSGI server instead.\n",
      " * Running on http://127.0.0.1:5000\n",
      "Press CTRL+C to quit\n",
      " * Restarting with stat\n",
      "0.00s - Debugger warning: It seems that frozen modules are being used, which may\n",
      "0.00s - make the debugger miss breakpoints. Please pass -Xfrozen_modules=off\n",
      "0.00s - to python to disable frozen modules.\n",
      "0.00s - Note: Debugging will proceed. Set PYDEVD_DISABLE_FILE_VALIDATION=1 to disable this validation.\n",
      "Traceback (most recent call last):\n",
      "  File \"<frozen runpy>\", line 198, in _run_module_as_main\n",
      "  File \"<frozen runpy>\", line 88, in _run_code\n",
      "  File \"/Users/mohammadshahanshaah/anaconda3/lib/python3.11/site-packages/ipykernel_launcher.py\", line 17, in <module>\n",
      "    app.launch_new_instance()\n",
      "  File \"/Users/mohammadshahanshaah/anaconda3/lib/python3.11/site-packages/traitlets/config/application.py\", line 991, in launch_instance\n",
      "    app.initialize(argv)\n",
      "  File \"/Users/mohammadshahanshaah/anaconda3/lib/python3.11/site-packages/traitlets/config/application.py\", line 113, in inner\n",
      "    return method(app, *args, **kwargs)\n",
      "           ^^^^^^^^^^^^^^^^^^^^^^^^^^^^\n",
      "  File \"/Users/mohammadshahanshaah/anaconda3/lib/python3.11/site-packages/ipykernel/kernelapp.py\", line 654, in initialize\n",
      "    self.init_sockets()\n",
      "  File \"/Users/mohammadshahanshaah/anaconda3/lib/python3.11/site-packages/ipykernel/kernelapp.py\", line 331, in init_sockets\n",
      "    self.shell_port = self._bind_socket(self.shell_socket, self.shell_port)\n",
      "                      ^^^^^^^^^^^^^^^^^^^^^^^^^^^^^^^^^^^^^^^^^^^^^^^^^^^^^\n",
      "  File \"/Users/mohammadshahanshaah/anaconda3/lib/python3.11/site-packages/ipykernel/kernelapp.py\", line 253, in _bind_socket\n",
      "    return self._try_bind_socket(s, port)\n",
      "           ^^^^^^^^^^^^^^^^^^^^^^^^^^^^^^\n",
      "  File \"/Users/mohammadshahanshaah/anaconda3/lib/python3.11/site-packages/ipykernel/kernelapp.py\", line 229, in _try_bind_socket\n",
      "    s.bind(\"tcp://%s:%i\" % (self.ip, port))\n",
      "  File \"/Users/mohammadshahanshaah/anaconda3/lib/python3.11/site-packages/zmq/sugar/socket.py\", line 302, in bind\n",
      "    super().bind(addr)\n",
      "  File \"zmq/backend/cython/socket.pyx\", line 564, in zmq.backend.cython.socket.Socket.bind\n",
      "  File \"zmq/backend/cython/checkrc.pxd\", line 28, in zmq.backend.cython.checkrc._check_rc\n",
      "zmq.error.ZMQError: Address already in use (addr='tcp://127.0.0.1:52067')\n"
     ]
    },
    {
     "ename": "SystemExit",
     "evalue": "1",
     "output_type": "error",
     "traceback": [
      "An exception has occurred, use %tb to see the full traceback.\n",
      "\u001b[0;31mSystemExit\u001b[0m\u001b[0;31m:\u001b[0m 1\n"
     ]
    }
   ],
   "source": [
    "from flask import Flask\n",
    "\n",
    "app = Flask(__name__)\n",
    "\n",
    "@app.route('/hello/<name>')\n",
    "def hello_name(name):\n",
    "    return f'Hello, {name}!'\n",
    "\n",
    "if __name__ == '__main__':\n",
    "    app.run(debug=True)\n"
   ]
  },
  {
   "cell_type": "markdown",
   "id": "181839c1-c9d3-4186-8f07-33e2d028b35f",
   "metadata": {},
   "source": [
    "# : How would you deploy a Flask application to a production server using Gunicorn and Nginx?"
   ]
  },
  {
   "cell_type": "raw",
   "id": "26f7e04a-fae8-4b80-bd47-7abb17c74ebb",
   "metadata": {},
   "source": [
    "1) Install dependencies:\n",
    "Install Flask, Gunicorn, Nginx, and any other necessary libraries.\n",
    "\n",
    "2) Configure Nginx:\n",
    "\n",
    "Create an Nginx configuration file (e.g., /etc/nginx/sites-available/myapp) to define server settings and proxy requests to Gunicorn.\n",
    "\n",
    "3) Configure Gunicorn:\n",
    "\n",
    "Start Gunicorn with the WSGI entry point of your Flask app (e.g., gunicorn app:app).\n",
    "\n",
    "4) Run Flask app:\n",
    "\n",
    "Ensure your Flask app is running with Gunicorn.\n",
    "\n",
    "5)Enable Nginx site:\n",
    "\n",
    "Enable your Nginx site configuration with sudo ln -s /etc/nginx/sites-available/myapp /etc/nginx/sites-enabled.\n",
    "\n",
    "6)Restart Nginx:\n",
    "\n",
    "Restart Nginx to apply changes: sudo systemctl restart nginx.\n",
    "\n",
    "7)Test deployment:\n",
    "\n",
    "Access your Flask app via the server's domain name or IP address."
   ]
  },
  {
   "cell_type": "code",
   "execution_count": null,
   "id": "f2476acc-9d87-4f59-b321-9dad6da35073",
   "metadata": {},
   "outputs": [],
   "source": []
  },
  {
   "cell_type": "code",
   "execution_count": 118,
   "id": "e46b0c3f-8a5e-4461-bf58-945c9c5e2561",
   "metadata": {},
   "outputs": [
    {
     "ename": "ModuleNotFoundError",
     "evalue": "No module named 'flask_pymongo'",
     "output_type": "error",
     "traceback": [
      "\u001b[0;31m---------------------------------------------------------------------------\u001b[0m",
      "\u001b[0;31mModuleNotFoundError\u001b[0m                       Traceback (most recent call last)",
      "Cell \u001b[0;32mIn[118], line 2\u001b[0m\n\u001b[1;32m      1\u001b[0m \u001b[38;5;28;01mfrom\u001b[39;00m \u001b[38;5;21;01mflask\u001b[39;00m \u001b[38;5;28;01mimport\u001b[39;00m Flask, render_template, request, redirect, session, url_for\n\u001b[0;32m----> 2\u001b[0m \u001b[38;5;28;01mfrom\u001b[39;00m \u001b[38;5;21;01mflask_pymongo\u001b[39;00m \u001b[38;5;28;01mimport\u001b[39;00m PyMongo\n\u001b[1;32m      3\u001b[0m \u001b[38;5;28;01mfrom\u001b[39;00m \u001b[38;5;21;01mwerkzeug\u001b[39;00m\u001b[38;5;21;01m.\u001b[39;00m\u001b[38;5;21;01msecurity\u001b[39;00m \u001b[38;5;28;01mimport\u001b[39;00m generate_password_hash, check_password_hash\n\u001b[1;32m      5\u001b[0m app \u001b[38;5;241m=\u001b[39m Flask(\u001b[38;5;18m__name__\u001b[39m)\n",
      "\u001b[0;31mModuleNotFoundError\u001b[0m: No module named 'flask_pymongo'"
     ]
    }
   ],
   "source": [
    "from flask import Flask, render_template, request, redirect, session, url_for\n",
    "from flask_pymongo import PyMongo\n",
    "from werkzeug.security import generate_password_hash, check_password_hash\n",
    "\n",
    "app = Flask(__name__)\n",
    "app.config['SECRET_KEY'] = 'your_secret_key'\n",
    "app.config['MONGO_URI'] = 'mongodb://localhost:27017/mydatabase'\n",
    "\n",
    "mongo = PyMongo(app)\n",
    "\n",
    "# Homepage\n",
    "@app.route('/')\n",
    "def index():\n",
    "    if 'username' in session:\n",
    "        return render_template('home.html', username=session['username'])\n",
    "    return render_template('index.html')\n",
    "\n",
    "# Signup route\n",
    "@app.route('/signup', methods=['GET', 'POST'])\n",
    "def signup():\n",
    "    if request.method == 'POST':\n",
    "        users = mongo.db.users\n",
    "        existing_user = users.find_one({'username': request.form['username']})\n",
    "        if existing_user is None:\n",
    "            hashpass = generate_password_hash(request.form['password'])\n",
    "            users.insert_one({'username': request.form['username'], 'password': hashpass})\n",
    "            session['username'] = request.form['username']\n",
    "            return redirect(url_for('index'))\n",
    "        return 'That username already exists!'\n",
    "    return render_template('signup.html')\n",
    "\n",
    "# Signin route\n",
    "@app.route('/signin', methods=['GET', 'POST'])\n",
    "def signin():\n",
    "    if request.method == 'POST':\n",
    "        users = mongo.db.users\n",
    "        login_user = users.find_one({'username': request.form['username']})\n",
    "        if login_user:\n",
    "            if check_password_hash(login_user['password'], request.form['password']):\n",
    "                session['username'] = request.form['username']\n",
    "                return redirect(url_for('index'))\n",
    "            return 'Invalid username/password combination'\n",
    "        return 'User not found. Please sign up.'\n",
    "    return render_template('signin.html')\n",
    "\n",
    "# Logout route\n",
    "@app.route('/logout')\n",
    "def logout():\n",
    "    session.pop('username', None)\n",
    "    return redirect(url_for('index'))\n",
    "\n",
    "if __name__ == '__main__':\n",
    "    app.run(debug=True)\n"
   ]
  },
  {
   "cell_type": "code",
   "execution_count": null,
   "id": "aaa80f52-f8e3-4345-972f-03419c706838",
   "metadata": {},
   "outputs": [],
   "source": []
  },
  {
   "cell_type": "code",
   "execution_count": null,
   "id": "9af08ab5-5dc3-4807-a703-6450fb4693ff",
   "metadata": {},
   "outputs": [],
   "source": []
  },
  {
   "cell_type": "markdown",
   "id": "04eebda3-d280-437c-b645-df81e53fd6d5",
   "metadata": {},
   "source": [
    "#  50.Machine Learning"
   ]
  },
  {
   "cell_type": "code",
   "execution_count": null,
   "id": "f2519310-39fb-4a6e-9bc6-780f3374fc73",
   "metadata": {},
   "outputs": [],
   "source": []
  },
  {
   "cell_type": "markdown",
   "id": "087a2c0c-bdbb-491d-8c54-d5b16d3f4db8",
   "metadata": {},
   "source": [
    " # 1.What is the difference between Series & Dataframes?"
   ]
  },
  {
   "cell_type": "raw",
   "id": "cb9aef8b-6c07-4a8d-9ce0-e52c102f1561",
   "metadata": {},
   "source": [
    "Series: A one-dimensional labeled array capable of holding any data type. It is similar to a column in an Excel sheet.\n",
    "\n",
    "DataFrame: A two-dimensional labeled data structure with columns of potentially different types. It is similar to an Excel sheet or a SQL table.\n",
    "\n"
   ]
  },
  {
   "cell_type": "markdown",
   "id": "413d3e65-fb11-4b50-9d49-e21be5605fe6",
   "metadata": {},
   "source": [
    "# Create a database name Travel_Planner in mysal ,and create a table name bookings in that which having attributes (user_id INT, flight_id INT,hotel_id INT, activity d_i INT,booking_date DATE) fil with some dummy value Now you have to read the content of this table using pandas as dataframe.Show the output."
   ]
  },
  {
   "cell_type": "code",
   "execution_count": 6,
   "id": "3b23891a-f87c-4b43-b00b-c24c3cb5b0b2",
   "metadata": {},
   "outputs": [
    {
     "name": "stdout",
     "output_type": "stream",
     "text": [
      "(1, 101, 201, 301, '2024-01-01')\n",
      "(2, 102, 202, 302, '2024-02-01')\n",
      "(3, 103, 203, 303, '2024-03-01')\n"
     ]
    }
   ],
   "source": [
    "import sqlite3\n",
    "\n",
    "# Create a connection to the SQLite database\n",
    "conn = sqlite3.connect('Travel_Planner.db')\n",
    "cursor = conn.cursor()\n",
    "\n",
    "# Create the bookings table\n",
    "cursor.execute('''\n",
    "CREATE TABLE IF NOT EXISTS bookings (\n",
    "    user_id INT,\n",
    "    flight_id INT,\n",
    "    hotel_id INT,\n",
    "    activity_id INT,\n",
    "    booking_date DATE\n",
    ")\n",
    "''')\n",
    "\n",
    "# Insert data into the bookings table\n",
    "cursor.executemany('''\n",
    "INSERT INTO bookings (user_id, flight_id, hotel_id, activity_id, booking_date) VALUES (?, ?, ?, ?, ?)\n",
    "''', [\n",
    "    (1, 101, 201, 301, '2024-01-01'),\n",
    "    (2, 102, 202, 302, '2024-02-01'),\n",
    "    (3, 103, 203, 303, '2024-03-01')\n",
    "])\n",
    "\n",
    "# Commit the transaction\n",
    "conn.commit()\n",
    "\n",
    "# Select data from the bookings table\n",
    "cursor.execute('SELECT * FROM bookings')\n",
    "rows = cursor.fetchall()\n",
    "\n",
    "# Display the data\n",
    "for row in rows:\n",
    "    print(row)\n",
    "\n",
    "# Close the connection\n",
    "conn.close()\n"
   ]
  },
  {
   "cell_type": "markdown",
   "id": "83a00fe5-4394-4795-a70f-034b4e18de39",
   "metadata": {},
   "source": [
    "#  Difference between loc a n d iloc."
   ]
  },
  {
   "cell_type": "raw",
   "id": "8931a931-349a-41da-b310-43a195919b39",
   "metadata": {},
   "source": [
    "loc: Access a group of rows and columns by labels or a boolean array.\n",
    "\n",
    "iloc: Access a group of rows and columns by integer positions."
   ]
  },
  {
   "cell_type": "code",
   "execution_count": 7,
   "id": "219c689c-7618-4a59-8287-aec63c29330a",
   "metadata": {},
   "outputs": [
    {
     "name": "stdout",
     "output_type": "stream",
     "text": [
      "   A  B\n",
      "0  1  4\n",
      "1  2  5\n",
      "   A  B\n",
      "0  1  4\n",
      "1  2  5\n"
     ]
    }
   ],
   "source": [
    "import pandas as pd\n",
    "\n",
    "df = pd.DataFrame({\n",
    "    'A': [1, 2, 3],\n",
    "    'B': [4, 5, 6],\n",
    "    'C': [7, 8, 9]\n",
    "})\n",
    "\n",
    "# Using loc\n",
    "print(df.loc[0:1, ['A', 'B']])\n",
    "\n",
    "# Using iloc\n",
    "print(df.iloc[0:2, 0:2])\n"
   ]
  },
  {
   "cell_type": "markdown",
   "id": "e859e213-f7a0-4031-904c-58110e3fe851",
   "metadata": {},
   "source": [
    "#  What is the difference between supervised and unsupervised learning? "
   ]
  },
  {
   "cell_type": "raw",
   "id": "9d9df352-7f8a-4fc3-a47c-823701ab7ba5",
   "metadata": {},
   "source": [
    "Supervised Learning: The model is trained on labeled data. \n",
    "The goal is to learn the mapping from inputs to outputs. Examples include classification and regression.\n",
    "\n",
    "Unsupervised Learning: The model is trained on unlabeled data. \n",
    "The goal is to find hidden patterns or intrinsic structures. Examples include clustering and association."
   ]
  },
  {
   "cell_type": "markdown",
   "id": "5a48d02e-7a77-47e9-8421-97161d7876b3",
   "metadata": {},
   "source": [
    "# • Explain the bias-variance tradeoff."
   ]
  },
  {
   "cell_type": "raw",
   "id": "6b875600-3ce9-4085-aaa6-4c1c309c687c",
   "metadata": {},
   "source": [
    "Precision: The ratio of correctly predicted positive observations to the total predicted positives.\n",
    "Precision\n",
    "=\n",
    "True Positives\n",
    "True Positives\n",
    "+\n",
    "False Positives\n",
    "Precision= \n",
    "True Positives+False Positives\n",
    "True Positives\n",
    "​\n",
    " \n",
    "\n",
    "Recall: The ratio of correctly predicted positive observations to the all observations in actual class.\n",
    "Recall\n",
    "=\n",
    "True Positives\n",
    "True Positives\n",
    "+\n",
    "False Negatives\n",
    "Recall= \n",
    "True Positives+False Negatives\n",
    "True Positives\n",
    "​\n",
    " \n",
    "\n",
    "Accuracy: The ratio of correctly predicted observations to the total observations.\n",
    "Accuracy\n",
    "=\n",
    "True Positives\n",
    "+\n",
    "True Negatives\n",
    "Total Observations\n",
    "Accuracy= \n",
    "Total Observations\n",
    "True Positives+True Negatives\n",
    "​"
   ]
  },
  {
   "cell_type": "markdown",
   "id": "1e9e4205-b401-4ace-836f-c6637f202f59",
   "metadata": {},
   "source": [
    "#  What is overfitting and how can ti be prevented?"
   ]
  },
  {
   "cell_type": "raw",
   "id": "fcd47efe-a897-45a4-8aae-c9a1b354c0bc",
   "metadata": {},
   "source": [
    "Overfitting: When a model learns the noise and details in the training data to the extent that it negatively impacts the performance of the model on new data.\n",
    "\n"
   ]
  },
  {
   "cell_type": "markdown",
   "id": "8881e84a-a3c5-46d7-a5c6-f5d4673dce43",
   "metadata": {},
   "source": [
    "# • Explain the concept of cross-validation."
   ]
  },
  {
   "cell_type": "raw",
   "id": "6482ab2b-a4a5-48ad-b253-4a4fbb164a01",
   "metadata": {},
   "source": [
    "Cross-validation is a technique used to assess the performance of a machine learning model. It involves partitioning the dataset into subsets, training the model on some subsets (training set), and evaluating it on the remaining subset (validation set). This process is repeated multiple times to reduce variability and provide a more accurate measure of model performance. The most common form is k-fold cross-validation."
   ]
  },
  {
   "cell_type": "markdown",
   "id": "8ed595a2-2b5c-4784-8a8c-178a9db63d56",
   "metadata": {},
   "source": [
    "# What is the difference between a classification and a regression problem?"
   ]
  },
  {
   "cell_type": "raw",
   "id": "7a908a39-b92a-4225-bd6b-f87447361186",
   "metadata": {},
   "source": [
    "Classification: Predicting a categorical label (e.g., spam or not spam).\n",
    "Regression: Predicting a continuous value (e.g., price of a house).\n",
    "\n"
   ]
  },
  {
   "cell_type": "markdown",
   "id": "890148ed-b8be-4f7d-8669-535f481fba7b",
   "metadata": {},
   "source": [
    "#  Explain the concept of ensemble learning."
   ]
  },
  {
   "cell_type": "raw",
   "id": "ab062147-1fde-4b7f-a4a3-0aa59cfae2af",
   "metadata": {},
   "source": [
    "Ensemble learning involves combining multiple models (weak learners) to produce a stronger model that improves accuracy and robustness. Examples include bagging (e.g., Random Forest) and boosting (e.g., AdaBoost, Gradient Boosting)."
   ]
  },
  {
   "cell_type": "markdown",
   "id": "e794315a-acda-4ccd-8fe9-ceeda5d26206",
   "metadata": {},
   "source": [
    "# What is gradient descent and how does it work?\n"
   ]
  },
  {
   "cell_type": "raw",
   "id": "88a0fee6-360b-41f6-b29f-d18a3542bd6f",
   "metadata": {},
   "source": [
    "Gradient descent is an optimization algorithm used to minimize the loss function in machine learning models. It iteratively adjusts the model parameters by moving them in the direction of the negative gradient of the loss function."
   ]
  },
  {
   "cell_type": "markdown",
   "id": "a25d4442-4220-42ce-9282-352a61960817",
   "metadata": {},
   "source": [
    "#  Describe the difference between batch gradient descent and stochastic gradient descent"
   ]
  },
  {
   "cell_type": "raw",
   "id": "36e42912-1edc-4b94-ae7b-c72b770909a8",
   "metadata": {},
   "source": [
    "Batch Gradient Descent: Uses the entire dataset to compute the gradient and update the model parameters.\n",
    "Stochastic Gradient Descent (SGD): Uses one training example at a time to compute the gradient and update the parameters. This makes SGD faster and allows it to escape local minima more easily."
   ]
  },
  {
   "cell_type": "markdown",
   "id": "695827fd-7dc5-4fdb-8a28-3b7e99277c86",
   "metadata": {},
   "source": [
    "# What is the curse of dimensionality in machine learning?\n"
   ]
  },
  {
   "cell_type": "raw",
   "id": "df97cd01-220b-4638-9123-886822a192d0",
   "metadata": {},
   "source": [
    "The curse of dimensionality refers to various phenomena that arise when analyzing and organizing data in high-dimensional spaces. It implies that as the number of features increases, the volume of the space increases exponentially, making the data sparse and the model more complex, often leading to overfitting and difficulty in finding patterns."
   ]
  },
  {
   "cell_type": "markdown",
   "id": "4a8bcdbc-fff1-4384-bf72-e752f3497cbd",
   "metadata": {},
   "source": [
    "# Explain the difference between L1 and L2 regularization."
   ]
  },
  {
   "cell_type": "raw",
   "id": "02d440d6-a040-4fcb-a578-4754ee5d70db",
   "metadata": {},
   "source": [
    "L1 Regularization (Lasso): Adds the absolute value of the coefficients as a penalty term to the loss function, promoting sparsity in the model.\n",
    "L2 Regularization (Ridge): Adds the squared value of the coefficients as a penalty term to the loss function, promoting small but non-zero coefficients.\n",
    "\n"
   ]
  },
  {
   "cell_type": "markdown",
   "id": "85d3dfa1-635c-459f-99b9-e52ba65b8b54",
   "metadata": {},
   "source": [
    "# Define AUC-ROC curve."
   ]
  },
  {
   "cell_type": "raw",
   "id": "6572d83a-e83d-4fc0-bcb8-da65a46e2f94",
   "metadata": {},
   "source": [
    "The AUC-ROC curve is a graphical representation of a classifier's performance. The ROC (Receiver Operating Characteristic) curve plots the true positive rate against the false positive rate. AUC (Area Under the Curve) measures the area under the ROC curve, indicating the model's ability to distinguish between classes.\n",
    "\n"
   ]
  },
  {
   "cell_type": "markdown",
   "id": "8eb757bd-e54e-4817-a771-0d09a5728198",
   "metadata": {},
   "source": [
    "#  Explain the k-nearest neighbors algorithm."
   ]
  },
  {
   "cell_type": "raw",
   "id": "aca4e214-13c5-4220-a6ed-090eb7f06db8",
   "metadata": {},
   "source": [
    "SVM is a supervised learning algorithm used for classification and regression. It finds the hyperplane that best separates the classes in the feature space, maximizing the margin between the closest points of each class (support vectors).\n",
    "\n"
   ]
  },
  {
   "cell_type": "markdown",
   "id": "40836ec2-bb75-4e5d-88cd-b8ff911f39ab",
   "metadata": {},
   "source": [
    "#  How does the kernel trick work in SVM?\n"
   ]
  },
  {
   "cell_type": "raw",
   "id": "fe6d43de-4090-4be3-a403-0f53eb3e717d",
   "metadata": {},
   "source": [
    "The kernel trick allows SVM to perform classification in higher-dimensional spaces without explicitly transforming the data. It uses kernel functions (e.g., linear, polynomial, RBF) to compute the inner products in the transformed space, enabling the separation of non-linearly separable data."
   ]
  },
  {
   "cell_type": "markdown",
   "id": "d1c06e2a-9aeb-4364-b952-be1c7e6dee91",
   "metadata": {},
   "source": [
    "# What are the different types of kernels used in SVM and when would you use each?\n"
   ]
  },
  {
   "cell_type": "raw",
   "id": "b6232039-0283-4bc8-a195-5183ce72d335",
   "metadata": {},
   "source": [
    "Linear Kernel: Used when the data is linearly separable.\n",
    "Polynomial Kernel: Used when the data is not linearly separable and requires polynomial relationships.\n"
   ]
  },
  {
   "cell_type": "markdown",
   "id": "7272ea48-3ef9-4ec4-8103-a7cd9b600ac1",
   "metadata": {},
   "source": [
    "# What is the hyperplane in SVM and how is it determined?"
   ]
  },
  {
   "cell_type": "raw",
   "id": "0978e543-daf8-413b-9ed8-1d1192fb66f6",
   "metadata": {},
   "source": [
    "The hyperplane is a decision boundary that separates different classes in the feature space. It is determined by maximizing the margin, which is the distance between the hyperplane and the nearest data points from each class (support vectors).\n",
    "\n"
   ]
  },
  {
   "cell_type": "markdown",
   "id": "b3032bd0-6d66-494d-a71a-79f2e7a7edb6",
   "metadata": {},
   "source": [
    "# What are the pros and cons of using a Support Vector Machine (SVM)? Pros:\n",
    "\n",
    "\n"
   ]
  },
  {
   "cell_type": "raw",
   "id": "84c75218-dd2d-4fb7-b41e-3a10b03d6a2a",
   "metadata": {},
   "source": [
    "Effective in high-dimensional spaces.\n",
    "Robust to overfitting, especially in high-dimensional space.\n",
    "Works well with a clear margin of separation.\n",
    "Cons:\n",
    "\n",
    "Computationally intensive for large datasets.\n",
    "Less effective when the number of features exceeds the number of samples.\n",
    "Sensitive to the choice of kernel and hyperparameters."
   ]
  },
  {
   "cell_type": "markdown",
   "id": "e82626e5-cfd7-40bd-8bc1-b5f730db9ecc",
   "metadata": {},
   "source": [
    "# Explain the difference between a hard margin and a soft margin SVM.\n"
   ]
  },
  {
   "cell_type": "raw",
   "id": "ca6b93e6-d98a-4ea0-ba40-e49c6d9a88ed",
   "metadata": {},
   "source": [
    "Hard Margin SVM: Assumes that the data is linearly separable and tries to find a hyperplane that perfectly separates the classes.\n",
    "Soft Margin SVM: Allows some misclassifications to achieve a better generalization on non-linearly separable data by introducing a penalty for misclassified points.\n",
    "\n"
   ]
  },
  {
   "cell_type": "markdown",
   "id": "885abc6f-7a57-4c6e-8c4e-560b782beede",
   "metadata": {},
   "source": [
    "# Describe the process of constructing a decision tree.\n"
   ]
  },
  {
   "cell_type": "raw",
   "id": "03b395d6-ab54-4c64-8d69-399086b36f44",
   "metadata": {},
   "source": [
    "Split the Dataset: Choose the best feature and split the dataset into subsets.\n",
    "Calculate Entropy/Gini: For each split, calculate the entropy or Gini impurity to measure the homogeneity of the subsets.\n",
    "Choose the Best Split: Select the split that results in the highest information gain or lowest Gini impurity.\n",
    "Repeat: Repeat the process recursively for each subset until a stopping criterion is met (e.g., maximum depth, minimum samples per leaf)."
   ]
  },
  {
   "cell_type": "markdown",
   "id": "2d920f14-c81a-4340-85a8-20b9384bd6f4",
   "metadata": {},
   "source": [
    "# Describe the working principle of a decision tree.\n"
   ]
  },
  {
   "cell_type": "raw",
   "id": "a59eb9f4-2ae5-4693-9b6f-a40ea5714d09",
   "metadata": {},
   "source": [
    " A decision tree classifies data by recursively splitting the dataset based on the most significant feature. Each internal node represents a feature, each branch represents a decision rule, and each leaf node represents the outcome. The goal is to create a model that predicts the target variable by learning simple decision rules inferred from the data features.\n",
    "\n"
   ]
  },
  {
   "cell_type": "markdown",
   "id": "e6a54d90-faf1-46e6-8ca9-ff2f73bd8182",
   "metadata": {},
   "source": [
    "# What are the advantages and disadvantages of decision trees?\n",
    "\n",
    "\n"
   ]
  },
  {
   "cell_type": "raw",
   "id": "af39f08f-0961-46b8-a8d8-fcc49c761cbc",
   "metadata": {},
   "source": [
    "Advantages:\n",
    "\n",
    "Easy to interpret and visualize.\n",
    "Requires little data preprocessing.\n",
    "Can handle both numerical and categorical data.\n",
    "\n",
    "\n",
    "Disadvantages:\n",
    "\n",
    "Prone to overfitting.\n",
    "Sensitive to noisy data and small variations.\n",
    "Can create biased trees if some classes dominate"
   ]
  },
  {
   "cell_type": "markdown",
   "id": "589fc645-f220-4a2c-92c3-ad4549a9bb73",
   "metadata": {},
   "source": [
    "# How do random forests improve upon decision trees?"
   ]
  },
  {
   "cell_type": "raw",
   "id": "d65e12a2-114a-44b4-8d29-f8ffbeea2e32",
   "metadata": {},
   "source": [
    "Random forests improve upon decision trees by combining multiple trees to reduce overfitting and increase robustness. They use bagging (bootstrap aggregating) and feature randomness to create diverse trees, resulting in a more stable and accurate model.\n",
    "\n"
   ]
  },
  {
   "cell_type": "markdown",
   "id": "035a7f11-d97c-42d7-a883-67cddb38af84",
   "metadata": {},
   "source": [
    "# How does a random forest algorithm work?"
   ]
  },
  {
   "cell_type": "raw",
   "id": "7ef00912-8a45-4ec7-8b5c-7a6f8ceb3f07",
   "metadata": {},
   "source": [
    "Bootstrap Sampling: Create multiple subsets of the dataset by sampling with replacement.\n",
    "Feature Randomness: For each tree, select a random subset of features.\n",
    "Build Decision Trees: Train a decision tree on each subset.\n",
    "Aggregate Predictions: Combine the predictions of all trees (majority vote for classification, average for regression) to make the final prediction.\n"
   ]
  },
  {
   "cell_type": "markdown",
   "id": "7b781b2a-9fb8-44aa-a0c9-af10f360430e",
   "metadata": {},
   "source": [
    "# What is bootstrapping in the context of random forests?\n"
   ]
  },
  {
   "cell_type": "raw",
   "id": "1fc58992-d4bd-44f7-8409-5aa92119b951",
   "metadata": {},
   "source": [
    "Bootstrapping is a resampling technique used in random forests to create multiple subsets of the dataset by sampling with replacement. This ensures that each subset is different and helps in creating diverse decision trees.\n",
    "\n"
   ]
  },
  {
   "cell_type": "markdown",
   "id": "a5c396b2-073b-42d9-8a25-66d484c186e6",
   "metadata": {},
   "source": [
    "# Explain the concept of feature importance in random forests.\n"
   ]
  },
  {
   "cell_type": "markdown",
   "id": "4392065f-3bcf-4252-a684-1dd1c30825fb",
   "metadata": {},
   "source": [
    "Feature importance measures the contribution of each feature to the model's predictive power. In random forests, it is typically computed by averaging the decrease in impurity (e.g., Gini or entropy) or increase in accuracy when a feature is used for splitting across all trees.\n",
    "\n"
   ]
  },
  {
   "cell_type": "markdown",
   "id": "8ba34c5e-3aa7-46ab-ba0f-e52743903e9f",
   "metadata": {},
   "source": [
    "# What are the key hyperparameters of a random forest and how do they affect the model?"
   ]
  },
  {
   "cell_type": "raw",
   "id": "cb6518ba-5287-4dc6-a4e8-8bc7069ca378",
   "metadata": {},
   "source": [
    "Number of Trees (n_estimators): More trees generally improve performance but increase computation time.\n",
    "Maximum Depth (max_depth): Limits the depth of each tree to prevent overfitting.\n",
    "\n",
    "Minimum Samples Split (min_samples_split): Minimum number of samples required to split a node.\n",
    "\n",
    "Minimum Samples Leaf (min_samples_leaf): Minimum number of samples required to be at a leaf node.\n",
    "\n",
    "Maximum Features (max_features): Number of features to consider when looking for the best split.\n"
   ]
  },
  {
   "cell_type": "markdown",
   "id": "86fd445b-3a1d-4f91-9ba6-1d71606dd2c6",
   "metadata": {},
   "source": [
    "# Describe the logistic regression model and its assumptions.\n"
   ]
  },
  {
   "cell_type": "raw",
   "id": "88c3b6cd-c349-4f4d-9011-c48004005a17",
   "metadata": {},
   "source": [
    "Logistic regression is a linear model used for binary classification. It models the probability of a class using the logistic function (sigmoid). Assumptions:"
   ]
  },
  {
   "cell_type": "markdown",
   "id": "afba7338-0a1a-4bd8-b5e6-7a3baa2e803e",
   "metadata": {},
   "source": [
    "# How does logistic regression handle binary classification problems?\n"
   ]
  },
  {
   "cell_type": "raw",
   "id": "b01a8464-9486-43df-b0bb-5285d0c27883",
   "metadata": {},
   "source": [
    "Logistic regression models the probability of a binary outcome using the logistic function. It calculates the log-odds of the outcome as a linear combination of the input features and applies the sigmoid function to map the log-odds to a probability."
   ]
  },
  {
   "cell_type": "markdown",
   "id": "0e2180c3-67f0-4c44-b433-0f07a50b2d5f",
   "metadata": {},
   "source": [
    "# How does XGBoost handle missing values?"
   ]
  },
  {
   "cell_type": "markdown",
   "id": "adf24b2a-98c8-4531-bf84-807c6133d8c8",
   "metadata": {},
   "source": [
    "XGBoost can handle missing values by learning which direction (left or right) to go when it encounters a missing value in the data during training. This makes it robust to incomplete datasets.\n",
    "\n"
   ]
  },
  {
   "cell_type": "markdown",
   "id": "9b74965a-c837-4d7e-ac82-c00fb146e4c2",
   "metadata": {},
   "source": [
    "# What are the key hyperparameters in XGBoost and how do they affect model performance?\n"
   ]
  },
  {
   "cell_type": "raw",
   "id": "469c0b76-f8a1-40fd-9145-1c904cc249cf",
   "metadata": {},
   "source": [
    "Learning Rate (eta): Controls the contribution of each tree. Lower values require more trees but can improve performance.\n",
    "Number of Trees (n_estimators): More trees generally improve performance but increase computation time.\n",
    "Maximum Depth (max_depth): Limits the depth of each tree to prevent overfitting.\n",
    "Minimum Child Weight (min_child_weight): Minimum sum of instance weights needed in a child. Higher values prevent overfitting.\n",
    "Subsample: Fraction of samples used for training each tree. Lower values prevent overfitting but may increase bias.\n"
   ]
  },
  {
   "cell_type": "markdown",
   "id": "382b840d-b826-4d70-9494-7b86ce81f717",
   "metadata": {},
   "source": [
    "# Describe the process of gradient boosting in XGBoost.\n"
   ]
  },
  {
   "cell_type": "raw",
   "id": "608b0ee7-7235-4f73-862e-fd06b80049ef",
   "metadata": {},
   "source": [
    "Gradient boosting in XGBoost involves training new models to correct the residual errors of previous models. The process:\n",
    "\n",
    "Fit an initial model (usually a simple model like a decision tree).\n",
    "Calculate the residual errors for each data point.\n",
    "Fit a new model to these residuals.\n",
    "Add the predictions of the new model to the previous models’ predictions.\n",
    "Repeat the process for a specified number of iterations or until convergence"
   ]
  },
  {
   "cell_type": "markdown",
   "id": "0a0c3ad3-4c70-4c40-9224-50dba9583589",
   "metadata": {},
   "source": [
    "# What are the advantages and disadvantages of using XGBoost?"
   ]
  },
  {
   "cell_type": "raw",
   "id": "8760918f-1afc-4f69-a175-2b14cd73c4c9",
   "metadata": {},
   "source": [
    "Advantages:\n",
    "\n",
    "High performance and speed.\n",
    "Robust to overfitting with regularization.\n",
    "Handles missing data effectively.\n",
    "Supports parallel processing.\n",
    "Disadvantages:\n",
    "\n",
    "Computationally intensive for large datasets.\n",
    "Requires careful tuning of hyperparameters.\n",
    "May be less interpretable than simpler models.\n"
   ]
  },
  {
   "cell_type": "code",
   "execution_count": null,
   "id": "37c1a73f-714e-4aaa-bc25-5a0a832a817f",
   "metadata": {},
   "outputs": [],
   "source": []
  },
  {
   "cell_type": "code",
   "execution_count": null,
   "id": "69f6ecc0-e2a5-451a-86af-52411139e169",
   "metadata": {},
   "outputs": [],
   "source": []
  },
  {
   "cell_type": "code",
   "execution_count": null,
   "id": "7fe280b0-95ae-41b6-9830-fbf823de1d2d",
   "metadata": {},
   "outputs": [],
   "source": []
  },
  {
   "cell_type": "code",
   "execution_count": null,
   "id": "32d82a64-2656-44fe-9ab8-50999bfadbd5",
   "metadata": {},
   "outputs": [],
   "source": []
  }
 ],
 "metadata": {
  "kernelspec": {
   "display_name": "Python 3 (ipykernel)",
   "language": "python",
   "name": "python3"
  },
  "language_info": {
   "codemirror_mode": {
    "name": "ipython",
    "version": 3
   },
   "file_extension": ".py",
   "mimetype": "text/x-python",
   "name": "python",
   "nbconvert_exporter": "python",
   "pygments_lexer": "ipython3",
   "version": "3.11.5"
  }
 },
 "nbformat": 4,
 "nbformat_minor": 5
}
